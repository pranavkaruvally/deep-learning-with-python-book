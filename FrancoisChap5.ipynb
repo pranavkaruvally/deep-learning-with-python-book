{
  "nbformat": 4,
  "nbformat_minor": 0,
  "metadata": {
    "colab": {
      "name": "FrancoisChap5.ipynb",
      "provenance": [],
      "authorship_tag": "ABX9TyPHlbAp5KTiv/fHHGb0nhor",
      "include_colab_link": true
    },
    "kernelspec": {
      "name": "python3",
      "display_name": "Python 3"
    },
    "language_info": {
      "name": "python"
    }
  },
  "cells": [
    {
      "cell_type": "markdown",
      "metadata": {
        "id": "view-in-github",
        "colab_type": "text"
      },
      "source": [
        "<a href=\"https://colab.research.google.com/github/theunixdisaster/deep-learning-with-python-book/blob/main/FrancoisChap5.ipynb\" target=\"_parent\"><img src=\"https://colab.research.google.com/assets/colab-badge.svg\" alt=\"Open In Colab\"/></a>"
      ]
    },
    {
      "cell_type": "markdown",
      "source": [
        "# Underfitting and overfitting"
      ],
      "metadata": {
        "id": "tzNroaUEqe13"
      }
    },
    {
      "cell_type": "markdown",
      "source": [
        "Adding white noise channels or all-zeros channels to MNIST"
      ],
      "metadata": {
        "id": "uo-GBcM6AvtV"
      }
    },
    {
      "cell_type": "code",
      "source": [
        "from tensorflow.keras.datasets import mnist\n",
        "import numpy as np\n",
        "\n",
        "(train_images, train_labels), _ = mnist.load_data()\n",
        "train_images = train_images.reshape((60000, 28*28)).astype(\"float32\")/255\n",
        "train_images_with_noise_channels = np.concatenate(\n",
        "    [train_images, np.random.random((len(train_images), 784))], axis=1)\n",
        "train_images_with_zeros_channels = np.concatenate(\n",
        "    [train_images, np.zeros((len(train_images), 784))], axis = 1)\n"
      ],
      "metadata": {
        "id": "uI-z231HA4SK"
      },
      "execution_count": null,
      "outputs": []
    },
    {
      "cell_type": "markdown",
      "source": [
        "Simple Holdout validation"
      ],
      "metadata": {
        "id": "P7llsf4kEddC"
      }
    },
    {
      "cell_type": "code",
      "source": [
        "from tensorflow.keras import layers\n",
        "from tensorflow import keras\n",
        "import numpy as np\n",
        "\n",
        "class Holdout:\n",
        "  def __init__(self, data, test_data):\n",
        "    self.data, = data\n",
        "    self.test_data = test_data\n",
        "\n",
        "    self.num_validation_samples = 10000\n",
        "    np.shuffle(self.data)\n",
        "\n",
        "    self.validation_data = self.data[:self.num_validation_samples]\n",
        "    self.training_data = self.data[self.num_validation_samples:]\n",
        "  \n",
        "  def get_model(self): #We use the model used in the MNIST example\n",
        "    model = keras.Sequential([\n",
        "                              layers.Dense(512, activation=\"relu\"),\n",
        "                              layers.Dense(10, activation=\"softmax\")\n",
        "    ])\n",
        "    model.compile(\n",
        "        optimizer=\"rmsprop\",\n",
        "        loss=\"sparse_categorical_crossentropy\",\n",
        "        metrics=[\"accuracy\"]\n",
        "    )\n",
        "    \n",
        "    return model\n",
        "\n",
        "  def fit_data(self):\n",
        "    model = self.get_model()\n",
        "    model.fit(self.training_data, ...)\n",
        "    validation_score = model.evaluate(self.validation_data, ...)\n",
        "\n",
        "    #Then we do the usual things that are to be done inorder get the right number of epochs\n",
        "\n",
        "    model = self.get_model()\n",
        "    model.fit(np.concatenate([self.training_data, self.validation_data]))\n",
        "    self.test_score = model.evaluate(self.test_data, ...)\n",
        "\n",
        "    return self.test_score"
      ],
      "metadata": {
        "id": "ZjcoEsKhEjtv"
      },
      "execution_count": null,
      "outputs": []
    },
    {
      "cell_type": "markdown",
      "source": [
        "K-fold cross-validation"
      ],
      "metadata": {
        "id": "XHMKNb8LJdDP"
      }
    },
    {
      "cell_type": "code",
      "source": [
        "import numpy as np\n",
        "from tensorflow import keras\n",
        "\n",
        "class KVal:\n",
        "  def __init__(self, data, test_data):\n",
        "    self.data = data\n",
        "    self.test_data = test_data\n",
        "\n",
        "    self.k=3\n",
        "    self.num_validation_samples = len(self.data) // self.k\n",
        "    np.random.shuffle(self.data)\n",
        "    self.validation_scores = []\n",
        "    for fold in range(self.k):\n",
        "      self.validation_data = self.data[self.num_validation_samples*fold : self.num_validation_samples*(fold+1)]\n",
        "      self.training_data = np.concatenate(\n",
        "          self.data[:self.num_validation_samples*fold], self.data[self.num_validation_samples*(fold+1):]\n",
        "      )\n",
        "\n",
        "      model = self.get_model()\n",
        "      model.fit(self.training_data, ...)\n",
        "      self.validation_score = model.evaluate(self.validation_data, ...)\n",
        "      self.validation_scores.append(self.validation_score)\n",
        "    \n",
        "    self.validation_score = np.average(self.validation_scores)\n",
        "    #Values are plotted adjusted as necessary to avoid overfitting\n",
        "\n",
        "\n",
        "  def get_model(self):\n",
        "    #This is a keras model just like in the Holdout Class\n",
        "    return keras.Model #Just to mimic the actual get_model function\n",
        "\n",
        "  def evaluate_test(self):\n",
        "    model = self.get_model()\n",
        "    model.fit(self.data, ...) #By using the adjusted values\n",
        "    test_score = model.evaluate(test_data, ...)\n",
        "    return test_score"
      ],
      "metadata": {
        "id": "9Qt19tJWJi8o"
      },
      "execution_count": null,
      "outputs": []
    },
    {
      "cell_type": "markdown",
      "source": [
        "# Improving model fit"
      ],
      "metadata": {
        "id": "OPHqNLU3Yrtn"
      }
    },
    {
      "cell_type": "markdown",
      "source": [
        "The three common problems that we'll encounter when trying for overfitting is\n",
        "\n",
        "\n",
        "*   Training doesn't get started\n",
        "*   Training gets started just fine, but your model doesn't meaningfully generalize\n",
        "*   Training and validation loss both go down over time, and you can beat your baseline(commonsense baseline put forward), but it doesn't get into a state of overfitting\n",
        "\n",
        "Few of the things we can do to solve the problem is to\n",
        "\n",
        "\n",
        "*   Adjust the learning rate\n",
        "*   See if sufficient information is provided\n",
        "*   See if the model designed is suitable for the problem\n",
        "\n",
        "\n",
        "\n",
        "\n",
        "\n",
        "\n",
        "\n",
        "\n",
        "\n"
      ],
      "metadata": {
        "id": "pxsDTOlvYvUu"
      }
    },
    {
      "cell_type": "code",
      "source": [
        ""
      ],
      "metadata": {
        "id": "KNgvmXEHaWFU"
      },
      "execution_count": null,
      "outputs": []
    }
  ]
}