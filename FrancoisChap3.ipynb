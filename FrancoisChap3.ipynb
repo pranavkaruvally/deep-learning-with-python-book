{
  "nbformat": 4,
  "nbformat_minor": 0,
  "metadata": {
    "colab": {
      "name": "FrancoisChap3.ipynb",
      "provenance": []
    },
    "kernelspec": {
      "name": "python3",
      "display_name": "Python 3"
    },
    "language_info": {
      "name": "python"
    },
    "accelerator": "GPU",
    "gpuClass": "standard"
  },
  "cells": [
    {
      "cell_type": "code",
      "execution_count": null,
      "metadata": {
        "colab": {
          "base_uri": "https://localhost:8080/"
        },
        "id": "LK7La0EYKhrj",
        "outputId": "f3b57223-58b7-41af-cf56-434d91f7a054"
      },
      "outputs": [
        {
          "output_type": "stream",
          "name": "stdout",
          "text": [
            "tf.Tensor(\n",
            "[[1.]\n",
            " [1.]], shape=(2, 1), dtype=float32)\n",
            "tf.Tensor(\n",
            "[[0.]\n",
            " [0.]], shape=(2, 1), dtype=float32)\n",
            "tf.Tensor(\n",
            "[[-0.36583376]\n",
            " [-0.3631898 ]], shape=(2, 1), dtype=float32)\n",
            "tf.Tensor(\n",
            "[[0.53288555]\n",
            " [0.78405464]], shape=(2, 1), dtype=float32)\n"
          ]
        }
      ],
      "source": [
        "import tensorflow as tf\n",
        "ones = tf.ones(shape=(2, 1))\n",
        "zeroes = tf.zeros(shape=(2, 1))\n",
        "x = tf.random.normal(shape=(2, 1), mean=0., stddev=1.)\n",
        "y = tf.random.uniform(shape = (2, 1), minval=0, maxval=1)\n",
        "\n",
        "print(ones)\n",
        "print(zeroes)\n",
        "print(x)\n",
        "print(y)"
      ]
    },
    {
      "cell_type": "code",
      "source": [
        "v = tf.Variable(tf.random.normal(shape=(3, 1), mean=0., stddev=1.))\n",
        "print(v)\n",
        "v.assign_add(tf.ones((3, 1)))\n",
        "print(v)\n",
        "v.assign_sub(tf.ones((3, 1)))\n",
        "print(v)"
      ],
      "metadata": {
        "colab": {
          "base_uri": "https://localhost:8080/"
        },
        "id": "Y4LpTlZkPCx4",
        "outputId": "4dad6c84-2461-4435-a75b-e09b187a3c2e"
      },
      "execution_count": null,
      "outputs": [
        {
          "output_type": "stream",
          "name": "stdout",
          "text": [
            "<tf.Variable 'Variable:0' shape=(3, 1) dtype=float32, numpy=\n",
            "array([[-0.78710854],\n",
            "       [-0.73966247],\n",
            "       [ 0.6406128 ]], dtype=float32)>\n",
            "<tf.Variable 'Variable:0' shape=(3, 1) dtype=float32, numpy=\n",
            "array([[0.21289146],\n",
            "       [0.26033753],\n",
            "       [1.6406128 ]], dtype=float32)>\n",
            "<tf.Variable 'Variable:0' shape=(3, 1) dtype=float32, numpy=\n",
            "array([[-0.78710854],\n",
            "       [-0.73966247],\n",
            "       [ 0.64061284]], dtype=float32)>\n"
          ]
        }
      ]
    },
    {
      "cell_type": "code",
      "source": [
        "import tensorflow as tf\n",
        "\n",
        "a = tf.ones((2, 2))\n",
        "print(a)\n",
        "b = tf.matmul(a, a)\n",
        "print(b)"
      ],
      "metadata": {
        "colab": {
          "base_uri": "https://localhost:8080/"
        },
        "id": "rreV3p39xadC",
        "outputId": "985907a2-af9e-4098-b994-55de722f8d2c"
      },
      "execution_count": null,
      "outputs": [
        {
          "output_type": "stream",
          "name": "stdout",
          "text": [
            "tf.Tensor(\n",
            "[[1. 1.]\n",
            " [1. 1.]], shape=(2, 2), dtype=float32)\n",
            "tf.Tensor(\n",
            "[[2. 2.]\n",
            " [2. 2.]], shape=(2, 2), dtype=float32)\n"
          ]
        }
      ]
    },
    {
      "cell_type": "markdown",
      "source": [
        "# Calculating derviatives \n",
        "Using the automatic differentiation feature of Tensorflow, we find the second derivative of a function"
      ],
      "metadata": {
        "id": "OZ3pvJyT6ZBQ"
      }
    },
    {
      "cell_type": "code",
      "source": [
        "import tensorflow as tf\n",
        "\n",
        "time = tf.Variable(initial_value=0.)\n",
        "\n",
        "with tf.GradientTape() as outer_tape:\n",
        "  with tf.GradientTape() as inner_tape:\n",
        "    position = 4.9*time*time\n",
        "  speed = inner_tape.gradient(position, time)\n",
        "acceleration = outer_tape.gradient(speed, time)\n",
        "\n",
        "print(acceleration)"
      ],
      "metadata": {
        "colab": {
          "base_uri": "https://localhost:8080/"
        },
        "id": "XpgZnUUe60dk",
        "outputId": "7a57db5a-0d50-470b-8f1e-68c6921b09cc"
      },
      "execution_count": null,
      "outputs": [
        {
          "output_type": "stream",
          "name": "stdout",
          "text": [
            "tf.Tensor(9.8, shape=(), dtype=float32)\n"
          ]
        }
      ]
    },
    {
      "cell_type": "markdown",
      "source": [
        "# Making a linear classifier from scratch"
      ],
      "metadata": {
        "id": "W-emFTYkwtve"
      }
    },
    {
      "cell_type": "code",
      "source": [
        "import numpy as np\n",
        "import tensorflow as tf\n",
        "import matplotlib.pyplot as plt\n",
        "\n",
        "num_samples_per_class = 1000\n",
        "negative_samples = np.random.multivariate_normal(\n",
        "    mean = [0, 3],\n",
        "    cov = [[1, 0.5], [0.5, 1]],\n",
        "    size = num_samples_per_class\n",
        ")\n",
        "positive_samples = np.random.multivariate_normal(\n",
        "    mean = [3, 0],\n",
        "    cov = [[1, 0.5], [0.5, 1]],\n",
        "    size = num_samples_per_class\n",
        ")\n",
        "\n",
        "inputs = np.vstack((negative_samples, positive_samples)).astype(np.float32)\n",
        "targets = np.vstack((np.zeros((num_samples_per_class, 1), dtype=np.float32), np.ones((num_samples_per_class, 1), dtype=np.float32)))\n",
        "\n",
        "input_dim = 2\n",
        "output_dim = 1\n",
        "W = tf.Variable(initial_value=tf.random.uniform(shape=(input_dim, output_dim)))\n",
        "b = tf.Variable(initial_value=tf.zeros(shape=(output_dim,)))\n",
        "\n",
        "def model(inputs):\n",
        "  return tf.matmul(inputs, W) + b\n",
        "\n",
        "def square_loss(targets, predictions):\n",
        "  per_sample_losses = tf.square(targets - predictions)\n",
        "  return tf.reduce_mean(per_sample_losses)\n",
        "\n",
        "learning_rate = 0.1\n",
        "\n",
        "def training_step(inputs, targets):\n",
        "  with tf.GradientTape() as tape:\n",
        "    predictions = model(inputs)\n",
        "    loss = square_loss(targets, predictions)\n",
        "\n",
        "  grad_loss_wrt_W, grad_loss_wrt_b = tape.gradient(loss, [W, b])\n",
        "  W.assign_sub(grad_loss_wrt_W * learning_rate)\n",
        "  b.assign_sub(grad_loss_wrt_b * learning_rate)\n",
        "\n",
        "  return loss\n",
        "\n",
        "for step in range(40):\n",
        "  loss = training_step(inputs, targets)\n",
        "  print(f\"Loss at step {step}: {loss:.4f}\")\n",
        "\n",
        "predictions = model(inputs)\n",
        "\n",
        "x = np.linspace(-1, 4, 100)\n",
        "y = -W[0] / W[1] * x + (0.5 - b) / W[1]\n",
        "plt.plot(x, y, \"-r\")\n",
        "plt.scatter(inputs[:, 0], inputs[:, 1], c=predictions[:, 0] > 0.5)"
      ],
      "metadata": {
        "colab": {
          "base_uri": "https://localhost:8080/",
          "height": 962
        },
        "id": "y5KT_VG6w1iX",
        "outputId": "c8bbe75b-6e0b-4e77-b17a-0635ccc877e2"
      },
      "execution_count": null,
      "outputs": [
        {
          "output_type": "stream",
          "name": "stdout",
          "text": [
            "Loss at step 0: 2.5995\n",
            "Loss at step 1: 0.3467\n",
            "Loss at step 2: 0.1460\n",
            "Loss at step 3: 0.1126\n",
            "Loss at step 4: 0.1019\n",
            "Loss at step 5: 0.0947\n",
            "Loss at step 6: 0.0884\n",
            "Loss at step 7: 0.0828\n",
            "Loss at step 8: 0.0777\n",
            "Loss at step 9: 0.0730\n",
            "Loss at step 10: 0.0688\n",
            "Loss at step 11: 0.0649\n",
            "Loss at step 12: 0.0614\n",
            "Loss at step 13: 0.0581\n",
            "Loss at step 14: 0.0552\n",
            "Loss at step 15: 0.0525\n",
            "Loss at step 16: 0.0501\n",
            "Loss at step 17: 0.0479\n",
            "Loss at step 18: 0.0459\n",
            "Loss at step 19: 0.0440\n",
            "Loss at step 20: 0.0423\n",
            "Loss at step 21: 0.0408\n",
            "Loss at step 22: 0.0394\n",
            "Loss at step 23: 0.0381\n",
            "Loss at step 24: 0.0370\n",
            "Loss at step 25: 0.0359\n",
            "Loss at step 26: 0.0350\n",
            "Loss at step 27: 0.0341\n",
            "Loss at step 28: 0.0333\n",
            "Loss at step 29: 0.0326\n",
            "Loss at step 30: 0.0319\n",
            "Loss at step 31: 0.0313\n",
            "Loss at step 32: 0.0307\n",
            "Loss at step 33: 0.0302\n",
            "Loss at step 34: 0.0298\n",
            "Loss at step 35: 0.0294\n",
            "Loss at step 36: 0.0290\n",
            "Loss at step 37: 0.0286\n",
            "Loss at step 38: 0.0283\n",
            "Loss at step 39: 0.0280\n"
          ]
        },
        {
          "output_type": "execute_result",
          "data": {
            "text/plain": [
              "<matplotlib.collections.PathCollection at 0x7f0eb8339e90>"
            ]
          },
          "metadata": {},
          "execution_count": 6
        },
        {
          "output_type": "display_data",
          "data": {
            "text/plain": [
              "<Figure size 432x288 with 1 Axes>"
            ],
            "image/png": "[encoded data removed]"
          },
          "metadata": {
            "needs_background": "light"
          }
        }
      ]
    }
  ]
}