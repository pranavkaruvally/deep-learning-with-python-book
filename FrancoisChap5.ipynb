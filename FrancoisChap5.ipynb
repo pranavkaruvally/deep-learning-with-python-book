{
  "nbformat": 4,
  "nbformat_minor": 0,
  "metadata": {
    "colab": {
      "name": "FrancoisChap5.ipynb",
      "provenance": [],
      "authorship_tag": "ABX9TyPkZxIbEjCgPWDg5u3WPx/p",
      "include_colab_link": true
    },
    "kernelspec": {
      "name": "python3",
      "display_name": "Python 3"
    },
    "language_info": {
      "name": "python"
    }
  },
  "cells": [
    {
      "cell_type": "markdown",
      "metadata": {
        "id": "view-in-github",
        "colab_type": "text"
      },
      "source": [
        "<a href=\"https://colab.research.google.com/github/theunixdisaster/deep-learning-with-python-book/blob/main/FrancoisChap5.ipynb\" target=\"_parent\"><img src=\"https://colab.research.google.com/assets/colab-badge.svg\" alt=\"Open In Colab\"/></a>"
      ]
    },
    {
      "cell_type": "markdown",
      "source": [
        "# Underfitting and overfitting"
      ],
      "metadata": {
        "id": "tzNroaUEqe13"
      }
    },
    {
      "cell_type": "markdown",
      "source": [
        "Adding white noise channels or all-zeros channels to MNIST"
      ],
      "metadata": {
        "id": "uo-GBcM6AvtV"
      }
    },
    {
      "cell_type": "code",
      "source": [
        "from tensorflow.keras.datasets import mnist\n",
        "import numpy as np\n",
        "\n",
        "(train_images, train_labels), _ = mnist.load_data()\n",
        "train_images.reshape(60000, 28*28).astype(\"float32\")/255\n",
        "train_images_with_noise_channels = np.concatenate(\n",
        "    [train_images, np.random.random(len(train_images), 784)], axis=1)\n",
        "train_images_with_zeros_channels = np.concatenate(\n",
        "    [train_images, np.zeros(len(train_images), 784)], axis = 1)\n"
      ],
      "metadata": {
        "id": "uI-z231HA4SK"
      },
      "execution_count": null,
      "outputs": []
    }
  ]
}