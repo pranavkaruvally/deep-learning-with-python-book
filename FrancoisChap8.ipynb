{
  "cells": [
    {
      "cell_type": "markdown",
      "metadata": {
        "id": "view-in-github",
        "colab_type": "text"
      },
      "source": [
        "<a href=\"https://colab.research.google.com/github/theunixdisaster/deep-learning-with-python-book/blob/main/FrancoisChap8.ipynb\" target=\"_parent\"><img src=\"https://colab.research.google.com/assets/colab-badge.svg\" alt=\"Open In Colab\"/></a>"
      ]
    },
    {
      "cell_type": "markdown",
      "metadata": {
        "id": "kZLKw8XejJHB"
      },
      "source": [
        "# CNN"
      ]
    },
    {
      "cell_type": "code",
      "execution_count": null,
      "metadata": {
        "colab": {
          "base_uri": "https://localhost:8080/"
        },
        "id": "1U7u4jQjjP8c",
        "outputId": "f71779d8-da07-49e6-dddc-09a8463a4046"
      },
      "outputs": [
        {
          "output_type": "stream",
          "name": "stdout",
          "text": [
            "Model: \"model\"\n",
            "_________________________________________________________________\n",
            " Layer (type)                Output Shape              Param #   \n",
            "=================================================================\n",
            " input_1 (InputLayer)        [(None, 28, 28, 1)]       0         \n",
            "                                                                 \n",
            " conv2d (Conv2D)             (None, 26, 26, 64)        640       \n",
            "                                                                 \n",
            " max_pooling2d (MaxPooling2D  (None, 13, 13, 64)       0         \n",
            " )                                                               \n",
            "                                                                 \n",
            " conv2d_1 (Conv2D)           (None, 11, 11, 128)       73856     \n",
            "                                                                 \n",
            " max_pooling2d_1 (MaxPooling  (None, 5, 5, 128)        0         \n",
            " 2D)                                                             \n",
            "                                                                 \n",
            " conv2d_2 (Conv2D)           (None, 3, 3, 256)         295168    \n",
            "                                                                 \n",
            " flatten (Flatten)           (None, 2304)              0         \n",
            "                                                                 \n",
            " dense (Dense)               (None, 10)                23050     \n",
            "                                                                 \n",
            "=================================================================\n",
            "Total params: 392,714\n",
            "Trainable params: 392,714\n",
            "Non-trainable params: 0\n",
            "_________________________________________________________________\n"
          ]
        }
      ],
      "source": [
        "from tensorflow import keras\n",
        "from tensorflow.keras import layers\n",
        "\n",
        "inputs = keras.Input(shape=(28, 28, 1))\n",
        "x = layers.Conv2D(filters=32, kernel_size=3, activation=\"relu\")(inputs)\n",
        "x = layers.MaxPooling2D(pool_size=2)(x)\n",
        "x = layers.Conv2D(filters=64, kernel_size=3, activation=\"relu\")(x)\n",
        "x = layers.MaxPooling2D(pool_size=2)(x)\n",
        "x = layers.Conv2D(filters=128, kernel_size=3, activation=\"relu\")(x)\n",
        "x = layers.Flatten()(x)\n",
        "outputs = layers.Dense(10, activation=\"softmax\")(x)\n",
        "model = keras.Model(inputs=inputs, outputs=outputs)\n",
        "\n",
        "model.summary()"
      ]
    },
    {
      "cell_type": "code",
      "source": [
        "from tensorflow.keras.datasets import mnist\n",
        "\n",
        "(train_images, train_labels), (test_images, test_labels) = mnist.load_data()\n",
        "train_images = train_images.reshape((60000, 28, 28, 1)).astype(\"float32\") / 255\n",
        "test_images = test_images.reshape((10000, 28, 28, 1)).astype(\"float32\") / 255\n",
        "\n",
        "model.compile(\n",
        "    optimizer=\"rmsprop\",\n",
        "    loss=\"sparse_categorical_crossentropy\",\n",
        "    metrics=[\"accuracy\"]\n",
        ")\n",
        "history = model.fit(train_images, train_labels, epochs=5, batch_size=64)"
      ],
      "metadata": {
        "colab": {
          "base_uri": "https://localhost:8080/"
        },
        "id": "1NwXgeyolNbn",
        "outputId": "af109d05-d3c0-4055-a862-6e40f000f1ee"
      },
      "execution_count": null,
      "outputs": [
        {
          "output_type": "stream",
          "name": "stdout",
          "text": [
            "Downloading data from https://storage.googleapis.com/tensorflow/tf-keras-datasets/mnist.npz\n",
            "11493376/11490434 [==============================] - 0s 0us/step\n",
            "11501568/11490434 [==============================] - 0s 0us/step\n",
            "Epoch 1/5\n",
            "938/938 [==============================] - 17s 5ms/step - loss: 0.1220 - accuracy: 0.9615\n",
            "Epoch 2/5\n",
            "938/938 [==============================] - 5s 5ms/step - loss: 0.0370 - accuracy: 0.9891\n",
            "Epoch 3/5\n",
            "938/938 [==============================] - 5s 5ms/step - loss: 0.0248 - accuracy: 0.9924\n",
            "Epoch 4/5\n",
            "938/938 [==============================] - 5s 5ms/step - loss: 0.0183 - accuracy: 0.9945\n",
            "Epoch 5/5\n",
            "938/938 [==============================] - 5s 5ms/step - loss: 0.0133 - accuracy: 0.9958\n"
          ]
        }
      ]
    },
    {
      "cell_type": "markdown",
      "source": [
        "An incorrectly structured convnet missing its max-pooling layers"
      ],
      "metadata": {
        "id": "bl7O8UM51FeF"
      }
    },
    {
      "cell_type": "code",
      "source": [
        "from tensorflow.keras import layers\n",
        "from tensorflow import keras\n",
        "\n",
        "inputs = keras.Input(shape=(28, 28, 1))\n",
        "x = layers.Conv2D(filters=32, kernel_size=3, activation=\"relu\")(inputs)\n",
        "x = layers.Conv2D(filters=64, kernel_size=3, activation=\"relu\")(x)\n",
        "x = layers.Conv2D(filters=128, kernel_size=3, activation=\"relu\")(x)\n",
        "x = layers.Flatten()(x)\n",
        "outputs = layers.Dense(10, activation=\"softmax\")(x)\n",
        "model_no_max_pool = keras.Model(inputs=inputs, outputs=outputs)\n",
        "\n",
        "print(model_no_max_pool.summary())"
      ],
      "metadata": {
        "colab": {
          "base_uri": "https://localhost:8080/"
        },
        "id": "7vVOheM11a-e",
        "outputId": "27bc7455-f475-43dc-a294-84c84c09818f"
      },
      "execution_count": null,
      "outputs": [
        {
          "output_type": "stream",
          "name": "stdout",
          "text": [
            "Model: \"model\"\n",
            "_________________________________________________________________\n",
            " Layer (type)                Output Shape              Param #   \n",
            "=================================================================\n",
            " input_2 (InputLayer)        [(None, 28, 28, 1)]       0         \n",
            "                                                                 \n",
            " conv2d_1 (Conv2D)           (None, 26, 26, 32)        320       \n",
            "                                                                 \n",
            " conv2d_2 (Conv2D)           (None, 24, 24, 64)        18496     \n",
            "                                                                 \n",
            " conv2d_3 (Conv2D)           (None, 22, 22, 128)       73856     \n",
            "                                                                 \n",
            " flatten (Flatten)           (None, 61952)             0         \n",
            "                                                                 \n",
            " dense (Dense)               (None, 10)                619530    \n",
            "                                                                 \n",
            "=================================================================\n",
            "Total params: 712,202\n",
            "Trainable params: 712,202\n",
            "Non-trainable params: 0\n",
            "_________________________________________________________________\n",
            "None\n"
          ]
        }
      ]
    },
    {
      "cell_type": "markdown",
      "source": [
        "# Cats vs Dogs"
      ],
      "metadata": {
        "id": "_er-46lRXl1p"
      }
    },
    {
      "cell_type": "code",
      "source": [
        "!mkdir -p ~/.kaggle && mv kaggle.json ~/.kaggle/kaggle.json && chmod 600 ~/.kaggle/kaggle.json"
      ],
      "metadata": {
        "id": "-APcQnG6-Ckr"
      },
      "execution_count": 1,
      "outputs": []
    },
    {
      "cell_type": "code",
      "source": [
        "!kaggle competitions download -c dogs-vs-cats"
      ],
      "metadata": {
        "id": "DmME79WvZoEI",
        "colab": {
          "base_uri": "https://localhost:8080/"
        },
        "outputId": "34624e84-9b13-4a8e-a2db-b96827d8c579"
      },
      "execution_count": 2,
      "outputs": [
        {
          "output_type": "stream",
          "name": "stdout",
          "text": [
            "Downloading dogs-vs-cats.zip to /content\n",
            " 98% 792M/812M [00:03<00:00, 249MB/s]\n",
            "100% 812M/812M [00:03<00:00, 214MB/s]\n"
          ]
        }
      ]
    },
    {
      "cell_type": "code",
      "source": [
        "!unzip dogs-vs-cats.zip"
      ],
      "metadata": {
        "colab": {
          "base_uri": "https://localhost:8080/"
        },
        "id": "cXGK9SemaTdg",
        "outputId": "d6e5df90-3997-40c3-b01c-c850213c1095"
      },
      "execution_count": 3,
      "outputs": [
        {
          "output_type": "stream",
          "name": "stdout",
          "text": [
            "Archive:  dogs-vs-cats.zip\n",
            "  inflating: sampleSubmission.csv    \n",
            "  inflating: test1.zip               \n",
            "  inflating: train.zip               \n"
          ]
        }
      ]
    },
    {
      "cell_type": "code",
      "source": [
        "!unzip -qq train.zip"
      ],
      "metadata": {
        "id": "lBDGKDKEalp1"
      },
      "execution_count": 4,
      "outputs": []
    },
    {
      "cell_type": "code",
      "source": [
        "import os, shutil, pathlib\n",
        "\n",
        "original_dir = pathlib.Path(\"train\")\n",
        "new_base_dir = pathlib.Path(\"cats_vs_dogs_small\")\n",
        "\n",
        "def make_subset(subset_name, start_index, end_index):\n",
        "  for category in (\"cat\", \"dog\"):\n",
        "    dir = new_base_dir / subset_name / category\n",
        "    os.makedirs(dir)\n",
        "    fnames = [f\"{category}.{i}.jpg\" for i in range(start_index, end_index)]\n",
        "    for fname in fnames:\n",
        "      shutil.copyfile(src=original_dir / fname, dst=dir/fname)\n",
        "\n",
        "make_subset(\"train\", start_index=0, end_index=1000)\n",
        "make_subset(\"validation\", start_index=1000, end_index=1500)\n",
        "make_subset(\"test\", start_index=1500, end_index=2500)"
      ],
      "metadata": {
        "id": "e1Q3PKOU10XH"
      },
      "execution_count": 5,
      "outputs": []
    },
    {
      "cell_type": "code",
      "source": [
        "from tensorflow import keras\n",
        "from tensorflow.keras import layers\n",
        "\n",
        "inputs = keras.Input(shape=(180, 180, 3))\n",
        "\n",
        "x = layers.Rescaling(1./255)(inputs)\n",
        "\n",
        "x = layers.Conv2D(filters=32, kernel_size=3, activation=\"relu\")(x)\n",
        "x = layers.MaxPooling2D(pool_size=2)(x)\n",
        "x = layers.Conv2D(filters=64, kernel_size=3, activation=\"relu\")(x)\n",
        "x = layers.MaxPooling2D(pool_size=2)(x)\n",
        "x = layers.Conv2D(filters=128, kernel_size=3, activation=\"relu\")(x)\n",
        "x = layers.MaxPooling2D(pool_size=2)(x)\n",
        "x = layers.Conv2D(filters=256, kernel_size=3, activation=\"relu\")(x)\n",
        "x = layers.Flatten()(x)\n",
        "outputs = layers.Dense(1, activation=\"sigmoid\")(x)\n",
        "\n",
        "model = keras.Model(inputs=inputs, outputs=outputs)\n",
        "model.compile(\n",
        "    optimizer=\"rmsprop\",\n",
        "    loss=\"binary_crossentropy\",\n",
        "    metrics=[\"accuracy\"]\n",
        ")"
      ],
      "metadata": {
        "id": "EBVBIkLOCGDO"
      },
      "execution_count": null,
      "outputs": []
    },
    {
      "cell_type": "code",
      "source": [
        "#image_dataset_from_directory to read images\n",
        "\n",
        "from tensorflow.keras.utils import image_dataset_from_directory\n",
        "\n",
        "train_dataset = image_dataset_from_directory(\n",
        "    new_base_dir / \"train\",\n",
        "    image_size = (180, 180),\n",
        "    batch_size = 32\n",
        ")\n",
        "validation_dataset = image_dataset_from_directory(\n",
        "    new_base_dir / \"validation\",\n",
        "    image_size = (180, 180),\n",
        "    batch_size = 32\n",
        ")\n",
        "test_dataset = image_dataset_from_directory(\n",
        "    new_base_dir / \"test\",\n",
        "    image_size = (180, 180),\n",
        "    batch_size = 32\n",
        ")"
      ],
      "metadata": {
        "colab": {
          "base_uri": "https://localhost:8080/"
        },
        "id": "NafZKs_AQHzT",
        "outputId": "b383b3c8-042d-4f5e-d641-370476aaf2cf"
      },
      "execution_count": 6,
      "outputs": [
        {
          "output_type": "stream",
          "name": "stdout",
          "text": [
            "Found 2000 files belonging to 2 classes.\n",
            "Found 1000 files belonging to 2 classes.\n",
            "Found 2000 files belonging to 2 classes.\n"
          ]
        }
      ]
    },
    {
      "cell_type": "code",
      "source": [
        "callbacks = [\n",
        "            keras.callbacks.ModelCheckpoint(\n",
        "                filepath=\"convnet_from_scratch.keras\",\n",
        "                save_best_only=True,\n",
        "                monitor=\"val_loss\")\n",
        "]\n",
        "history = model.fit(\n",
        "    train_dataset,\n",
        "    epochs=30,\n",
        "    validation_data=validation_dataset,\n",
        "    callbacks=callbacks\n",
        ")"
      ],
      "metadata": {
        "id": "OlnjpM4oUABT",
        "colab": {
          "base_uri": "https://localhost:8080/"
        },
        "outputId": "a796d436-9c44-4003-edbd-c2b4bff13f3f"
      },
      "execution_count": null,
      "outputs": [
        {
          "output_type": "stream",
          "name": "stdout",
          "text": [
            "Epoch 1/30\n",
            "63/63 [==============================] - 5s 70ms/step - loss: 0.0182 - accuracy: 0.9950 - val_loss: 4.0800 - val_accuracy: 0.6470\n",
            "Epoch 2/30\n",
            "63/63 [==============================] - 5s 69ms/step - loss: 0.0508 - accuracy: 0.9895 - val_loss: 3.4585 - val_accuracy: 0.6610\n",
            "Epoch 3/30\n",
            "63/63 [==============================] - 5s 69ms/step - loss: 0.0241 - accuracy: 0.9905 - val_loss: 3.8274 - val_accuracy: 0.6720\n",
            "Epoch 4/30\n",
            "63/63 [==============================] - 5s 69ms/step - loss: 0.0378 - accuracy: 0.9915 - val_loss: 3.8129 - val_accuracy: 0.6630\n",
            "Epoch 5/30\n",
            "63/63 [==============================] - 5s 69ms/step - loss: 0.0189 - accuracy: 0.9940 - val_loss: 4.6990 - val_accuracy: 0.6580\n",
            "Epoch 6/30\n",
            "63/63 [==============================] - 5s 69ms/step - loss: 0.0746 - accuracy: 0.9855 - val_loss: 3.9231 - val_accuracy: 0.6690\n",
            "Epoch 7/30\n",
            "63/63 [==============================] - 5s 71ms/step - loss: 0.0483 - accuracy: 0.9855 - val_loss: 4.1766 - val_accuracy: 0.6630\n",
            "Epoch 8/30\n",
            "63/63 [==============================] - 5s 70ms/step - loss: 0.0417 - accuracy: 0.9905 - val_loss: 4.2186 - val_accuracy: 0.6790\n",
            "Epoch 9/30\n",
            "63/63 [==============================] - 5s 70ms/step - loss: 0.0278 - accuracy: 0.9945 - val_loss: 4.4834 - val_accuracy: 0.6870\n",
            "Epoch 10/30\n",
            "63/63 [==============================] - 5s 70ms/step - loss: 0.0564 - accuracy: 0.9890 - val_loss: 4.7003 - val_accuracy: 0.6770\n",
            "Epoch 11/30\n",
            "63/63 [==============================] - 5s 70ms/step - loss: 0.0467 - accuracy: 0.9925 - val_loss: 4.5265 - val_accuracy: 0.6810\n",
            "Epoch 12/30\n",
            "63/63 [==============================] - 5s 70ms/step - loss: 0.0295 - accuracy: 0.9915 - val_loss: 4.7672 - val_accuracy: 0.6740\n",
            "Epoch 13/30\n",
            "63/63 [==============================] - 5s 70ms/step - loss: 0.0401 - accuracy: 0.9935 - val_loss: 4.8221 - val_accuracy: 0.6840\n",
            "Epoch 14/30\n",
            "63/63 [==============================] - 5s 70ms/step - loss: 0.0184 - accuracy: 0.9935 - val_loss: 5.3686 - val_accuracy: 0.6750\n",
            "Epoch 15/30\n",
            "63/63 [==============================] - 5s 71ms/step - loss: 0.0436 - accuracy: 0.9880 - val_loss: 5.2823 - val_accuracy: 0.6660\n",
            "Epoch 16/30\n",
            "63/63 [==============================] - 5s 70ms/step - loss: 0.0343 - accuracy: 0.9955 - val_loss: 5.4702 - val_accuracy: 0.6610\n",
            "Epoch 17/30\n",
            "63/63 [==============================] - 5s 71ms/step - loss: 0.0654 - accuracy: 0.9875 - val_loss: 5.9551 - val_accuracy: 0.6450\n",
            "Epoch 18/30\n",
            "63/63 [==============================] - 5s 70ms/step - loss: 0.0375 - accuracy: 0.9940 - val_loss: 5.4376 - val_accuracy: 0.6510\n",
            "Epoch 19/30\n",
            "63/63 [==============================] - 5s 71ms/step - loss: 0.0036 - accuracy: 0.9990 - val_loss: 5.4880 - val_accuracy: 0.6560\n",
            "Epoch 20/30\n",
            "63/63 [==============================] - 5s 71ms/step - loss: 0.0820 - accuracy: 0.9870 - val_loss: 6.1121 - val_accuracy: 0.6510\n",
            "Epoch 21/30\n",
            "63/63 [==============================] - 5s 70ms/step - loss: 0.0277 - accuracy: 0.9955 - val_loss: 6.1433 - val_accuracy: 0.6590\n",
            "Epoch 22/30\n",
            "63/63 [==============================] - 5s 70ms/step - loss: 0.0496 - accuracy: 0.9895 - val_loss: 6.2013 - val_accuracy: 0.6510\n",
            "Epoch 23/30\n",
            "63/63 [==============================] - 6s 85ms/step - loss: 0.0026 - accuracy: 0.9990 - val_loss: 5.6034 - val_accuracy: 0.6850\n",
            "Epoch 24/30\n",
            "63/63 [==============================] - 5s 70ms/step - loss: 0.0520 - accuracy: 0.9875 - val_loss: 5.8713 - val_accuracy: 0.6630\n",
            "Epoch 25/30\n",
            "63/63 [==============================] - 5s 71ms/step - loss: 0.0440 - accuracy: 0.9890 - val_loss: 5.9333 - val_accuracy: 0.6730\n",
            "Epoch 26/30\n",
            "63/63 [==============================] - 5s 71ms/step - loss: 0.0406 - accuracy: 0.9925 - val_loss: 5.8280 - val_accuracy: 0.6720\n",
            "Epoch 27/30\n",
            "63/63 [==============================] - 5s 70ms/step - loss: 0.0218 - accuracy: 0.9955 - val_loss: 6.1762 - val_accuracy: 0.6710\n",
            "Epoch 28/30\n",
            "63/63 [==============================] - 5s 70ms/step - loss: 0.0219 - accuracy: 0.9945 - val_loss: 6.3650 - val_accuracy: 0.6830\n",
            "Epoch 29/30\n",
            "63/63 [==============================] - 5s 70ms/step - loss: 0.0317 - accuracy: 0.9935 - val_loss: 6.4387 - val_accuracy: 0.6820\n",
            "Epoch 30/30\n",
            "63/63 [==============================] - 5s 70ms/step - loss: 0.0650 - accuracy: 0.9915 - val_loss: 7.0761 - val_accuracy: 0.6680\n"
          ]
        }
      ]
    },
    {
      "cell_type": "code",
      "source": [
        "import matplotlib.pyplot as plt\n",
        "\n",
        "accuracy = history.history[\"accuracy\"]\n",
        "val_accuracy = history.history[\"val_accuracy\"]\n",
        "loss = history.history[\"loss\"]\n",
        "val_loss = history.history[\"val_loss\"]\n",
        "\n",
        "plt.plot(epochs, accuracy, \"bo\", label=\"Training accuracy\")\n",
        "plt.plot(epochs, val_accuracy, \"b\", label=\"Validation accuracy\")\n",
        "plt.title(\"Training and Validation accuracy\")\n",
        "plt.legend()\n",
        "plt.figure()\n",
        "plt.plot(epochs, loss, \"bo\", label=\"Training loss\")\n",
        "plt.plot(epochs, val_loss, \"b\", label=\"Validation loss\")\n",
        "plt.title(\"Training and Validation accuracy\")\n",
        "plt.legend()\n",
        "plt.show()"
      ],
      "metadata": {
        "colab": {
          "base_uri": "https://localhost:8080/",
          "height": 545
        },
        "id": "mqa_dBmCbKRB",
        "outputId": "28335920-f479-4071-a78d-ac964b388e40"
      },
      "execution_count": null,
      "outputs": [
        {
          "output_type": "display_data",
          "data": {
            "text/plain": [
              "<Figure size 432x288 with 1 Axes>"
            ],
            "image/png": "[encoded data removed]"
          },
          "metadata": {
            "needs_background": "light"
          }
        },
        {
          "output_type": "display_data",
          "data": {
            "text/plain": [
              "<Figure size 432x288 with 1 Axes>"
            ],
            "image/png": "[encoded data removed]"
          },
          "metadata": {
            "needs_background": "light"
          }
        }
      ]
    },
    {
      "cell_type": "code",
      "source": [
        "data_augmentation = keras.Sequential([\n",
        "                                      layers.RandomFlip(\"horizontal\"),\n",
        "                                      layers.RandomRotation(0.1),\n",
        "                                      layers.RandomZoom(0.2)\n",
        "])"
      ],
      "metadata": {
        "id": "T_f3O1yvq1Ph"
      },
      "execution_count": null,
      "outputs": []
    },
    {
      "cell_type": "code",
      "source": [
        "#Retraining the model with augmentation so as to reduce overfitting and Dropout\n",
        "\n",
        "inputs = keras.Input(shape=(180, 180, 3))\n",
        "\n",
        "x = data_augmentation(inputs)\n",
        "x = layers.Rescaling(1./255)(x)\n",
        "x = layers.Conv2D(filters=32, kernel_size=3, activation=\"relu\")(x)\n",
        "x = layers.MaxPooling2D(pool_size=2)(x)\n",
        "x = layers.Conv2D(filters=64, kernel_size=3, activation=\"relu\")(x)\n",
        "x = layers.MaxPooling2D(pool_size=2)(x)\n",
        "x = layers.Conv2D(filters=128, kernel_size=3, activation=\"relu\")(x)\n",
        "x = layers.MaxPooling2D(pool_size=2)(x)\n",
        "x = layers.Conv2D(filters=256, kernel_size=3, activation=\"relu\")(x)\n",
        "x = layers.Flatten()(x)\n",
        "x = layers.Dropout(0.5)(x)\n",
        "outputs = layers.Dense(1, activation=\"sigmoid\")(x)\n",
        "\n",
        "model = keras.Model(inputs=inputs, outputs=outputs)\n",
        "model.compile(\n",
        "    optimizer=\"rmsprop\",\n",
        "    loss=\"binary_crossentropy\",\n",
        "    metrics=[\"accuracy\"]\n",
        ")"
      ],
      "metadata": {
        "id": "ga3Yg0oIqkAp"
      },
      "execution_count": null,
      "outputs": []
    },
    {
      "cell_type": "code",
      "source": [
        "callbacks = [keras.callbacks.ModelCheckpoint(\n",
        "    filepath=\"convnet_from_scratch_with_augmentation.keras\",\n",
        "    save_best_only=True,\n",
        "    monitor=\"val_loss\"\n",
        ")]\n",
        "history = model.fit(train_dataset, epochs=100, validation_data=validation_dataset, callbacks=callbacks)"
      ],
      "metadata": {
        "colab": {
          "base_uri": "https://localhost:8080/"
        },
        "id": "TYpuL6E6rb_K",
        "outputId": "979a5ea0-c6f5-40dc-c821-5f7a312c0b05"
      },
      "execution_count": null,
      "outputs": [
        {
          "output_type": "stream",
          "name": "stdout",
          "text": [
            "Epoch 1/100\n",
            "63/63 [==============================] - 6s 73ms/step - loss: 0.7708 - accuracy: 0.5110 - val_loss: 0.6900 - val_accuracy: 0.5210\n",
            "Epoch 2/100\n",
            "63/63 [==============================] - 5s 70ms/step - loss: 0.7032 - accuracy: 0.5395 - val_loss: 0.7021 - val_accuracy: 0.5220\n",
            "Epoch 3/100\n",
            "63/63 [==============================] - 5s 71ms/step - loss: 0.6874 - accuracy: 0.5915 - val_loss: 0.6592 - val_accuracy: 0.6250\n",
            "Epoch 4/100\n",
            "63/63 [==============================] - 5s 69ms/step - loss: 0.6514 - accuracy: 0.6315 - val_loss: 0.6622 - val_accuracy: 0.5630\n",
            "Epoch 5/100\n",
            "63/63 [==============================] - 5s 70ms/step - loss: 0.6308 - accuracy: 0.6510 - val_loss: 0.6209 - val_accuracy: 0.6370\n",
            "Epoch 6/100\n",
            "63/63 [==============================] - 5s 71ms/step - loss: 0.6131 - accuracy: 0.6595 - val_loss: 0.9597 - val_accuracy: 0.6190\n",
            "Epoch 7/100\n",
            "63/63 [==============================] - 5s 70ms/step - loss: 0.6091 - accuracy: 0.6835 - val_loss: 0.6273 - val_accuracy: 0.6110\n",
            "Epoch 8/100\n",
            "63/63 [==============================] - 5s 70ms/step - loss: 0.6357 - accuracy: 0.6765 - val_loss: 0.5935 - val_accuracy: 0.6750\n",
            "Epoch 9/100\n",
            "63/63 [==============================] - 5s 71ms/step - loss: 0.5631 - accuracy: 0.7125 - val_loss: 0.5609 - val_accuracy: 0.7070\n",
            "Epoch 10/100\n",
            "63/63 [==============================] - 5s 70ms/step - loss: 0.5643 - accuracy: 0.7150 - val_loss: 0.5535 - val_accuracy: 0.7100\n",
            "Epoch 11/100\n",
            "63/63 [==============================] - 5s 81ms/step - loss: 0.5548 - accuracy: 0.7185 - val_loss: 0.5254 - val_accuracy: 0.7300\n",
            "Epoch 12/100\n",
            "63/63 [==============================] - 5s 72ms/step - loss: 0.5450 - accuracy: 0.7360 - val_loss: 0.7100 - val_accuracy: 0.6680\n",
            "Epoch 13/100\n",
            "63/63 [==============================] - 5s 71ms/step - loss: 0.5502 - accuracy: 0.7245 - val_loss: 0.6034 - val_accuracy: 0.7160\n",
            "Epoch 14/100\n",
            "63/63 [==============================] - 6s 85ms/step - loss: 0.5264 - accuracy: 0.7395 - val_loss: 0.6973 - val_accuracy: 0.6500\n",
            "Epoch 15/100\n",
            "63/63 [==============================] - 5s 71ms/step - loss: 0.5127 - accuracy: 0.7495 - val_loss: 0.5654 - val_accuracy: 0.7290\n",
            "Epoch 16/100\n",
            "63/63 [==============================] - 5s 73ms/step - loss: 0.5092 - accuracy: 0.7510 - val_loss: 0.4914 - val_accuracy: 0.7560\n",
            "Epoch 17/100\n",
            "63/63 [==============================] - 5s 69ms/step - loss: 0.4886 - accuracy: 0.7600 - val_loss: 0.5664 - val_accuracy: 0.7140\n",
            "Epoch 18/100\n",
            "63/63 [==============================] - 5s 71ms/step - loss: 0.5119 - accuracy: 0.7515 - val_loss: 0.4838 - val_accuracy: 0.7700\n",
            "Epoch 19/100\n",
            "63/63 [==============================] - 5s 70ms/step - loss: 0.4725 - accuracy: 0.7910 - val_loss: 0.4860 - val_accuracy: 0.7750\n",
            "Epoch 20/100\n",
            "63/63 [==============================] - 5s 70ms/step - loss: 0.4769 - accuracy: 0.7700 - val_loss: 0.5402 - val_accuracy: 0.7580\n",
            "Epoch 21/100\n",
            "63/63 [==============================] - 5s 69ms/step - loss: 0.4704 - accuracy: 0.7830 - val_loss: 0.4920 - val_accuracy: 0.7530\n",
            "Epoch 22/100\n",
            "63/63 [==============================] - 5s 70ms/step - loss: 0.4712 - accuracy: 0.7825 - val_loss: 0.5055 - val_accuracy: 0.7570\n",
            "Epoch 23/100\n",
            "63/63 [==============================] - 5s 70ms/step - loss: 0.4567 - accuracy: 0.7880 - val_loss: 0.6557 - val_accuracy: 0.7040\n",
            "Epoch 24/100\n",
            "63/63 [==============================] - 5s 71ms/step - loss: 0.4503 - accuracy: 0.7905 - val_loss: 0.4999 - val_accuracy: 0.7640\n",
            "Epoch 25/100\n",
            "63/63 [==============================] - 5s 70ms/step - loss: 0.4863 - accuracy: 0.7975 - val_loss: 0.5142 - val_accuracy: 0.7770\n",
            "Epoch 26/100\n",
            "63/63 [==============================] - 5s 71ms/step - loss: 0.4473 - accuracy: 0.7915 - val_loss: 0.4802 - val_accuracy: 0.7760\n",
            "Epoch 27/100\n",
            "63/63 [==============================] - 5s 70ms/step - loss: 0.4313 - accuracy: 0.8000 - val_loss: 0.4834 - val_accuracy: 0.7900\n",
            "Epoch 28/100\n",
            "63/63 [==============================] - 5s 69ms/step - loss: 0.4299 - accuracy: 0.8140 - val_loss: 0.5603 - val_accuracy: 0.7600\n",
            "Epoch 29/100\n",
            "63/63 [==============================] - 5s 72ms/step - loss: 0.4291 - accuracy: 0.8215 - val_loss: 0.5583 - val_accuracy: 0.7530\n",
            "Epoch 30/100\n",
            "63/63 [==============================] - 5s 73ms/step - loss: 0.4077 - accuracy: 0.8045 - val_loss: 0.4555 - val_accuracy: 0.8120\n",
            "Epoch 31/100\n",
            "63/63 [==============================] - 5s 71ms/step - loss: 0.4140 - accuracy: 0.8120 - val_loss: 0.4781 - val_accuracy: 0.8040\n",
            "Epoch 32/100\n",
            "63/63 [==============================] - 5s 71ms/step - loss: 0.4061 - accuracy: 0.8165 - val_loss: 0.4149 - val_accuracy: 0.8140\n",
            "Epoch 33/100\n",
            "63/63 [==============================] - 5s 72ms/step - loss: 0.3916 - accuracy: 0.8370 - val_loss: 0.5022 - val_accuracy: 0.7890\n",
            "Epoch 34/100\n",
            "63/63 [==============================] - 5s 73ms/step - loss: 0.4083 - accuracy: 0.8210 - val_loss: 0.4681 - val_accuracy: 0.7960\n",
            "Epoch 35/100\n",
            "63/63 [==============================] - 5s 71ms/step - loss: 0.3925 - accuracy: 0.8290 - val_loss: 0.4572 - val_accuracy: 0.8110\n",
            "Epoch 36/100\n",
            "63/63 [==============================] - 5s 72ms/step - loss: 0.3843 - accuracy: 0.8250 - val_loss: 0.4805 - val_accuracy: 0.7970\n",
            "Epoch 37/100\n",
            "63/63 [==============================] - 5s 72ms/step - loss: 0.3735 - accuracy: 0.8385 - val_loss: 0.4544 - val_accuracy: 0.8130\n",
            "Epoch 38/100\n",
            "63/63 [==============================] - 5s 80ms/step - loss: 0.3871 - accuracy: 0.8310 - val_loss: 0.5684 - val_accuracy: 0.7890\n",
            "Epoch 39/100\n",
            "63/63 [==============================] - 5s 73ms/step - loss: 0.3634 - accuracy: 0.8450 - val_loss: 0.5136 - val_accuracy: 0.7910\n",
            "Epoch 40/100\n",
            "63/63 [==============================] - 5s 72ms/step - loss: 0.3886 - accuracy: 0.8285 - val_loss: 0.5754 - val_accuracy: 0.7840\n",
            "Epoch 41/100\n",
            "63/63 [==============================] - 5s 72ms/step - loss: 0.3525 - accuracy: 0.8400 - val_loss: 0.4942 - val_accuracy: 0.8190\n",
            "Epoch 42/100\n",
            "63/63 [==============================] - 5s 70ms/step - loss: 0.3540 - accuracy: 0.8315 - val_loss: 0.4517 - val_accuracy: 0.8300\n",
            "Epoch 43/100\n",
            "63/63 [==============================] - 5s 71ms/step - loss: 0.3491 - accuracy: 0.8470 - val_loss: 0.6003 - val_accuracy: 0.7720\n",
            "Epoch 44/100\n",
            "63/63 [==============================] - 5s 70ms/step - loss: 0.3391 - accuracy: 0.8575 - val_loss: 0.5103 - val_accuracy: 0.8100\n",
            "Epoch 45/100\n",
            "63/63 [==============================] - 5s 70ms/step - loss: 0.3419 - accuracy: 0.8565 - val_loss: 0.5482 - val_accuracy: 0.8050\n",
            "Epoch 46/100\n",
            "63/63 [==============================] - 5s 71ms/step - loss: 0.3666 - accuracy: 0.8465 - val_loss: 0.4768 - val_accuracy: 0.8190\n",
            "Epoch 47/100\n",
            "63/63 [==============================] - 5s 71ms/step - loss: 0.3151 - accuracy: 0.8715 - val_loss: 0.6024 - val_accuracy: 0.7950\n",
            "Epoch 48/100\n",
            "63/63 [==============================] - 5s 71ms/step - loss: 0.3254 - accuracy: 0.8575 - val_loss: 0.5044 - val_accuracy: 0.8080\n",
            "Epoch 49/100\n",
            "63/63 [==============================] - 5s 72ms/step - loss: 0.3392 - accuracy: 0.8475 - val_loss: 0.4391 - val_accuracy: 0.8370\n",
            "Epoch 50/100\n",
            "63/63 [==============================] - 5s 70ms/step - loss: 0.3691 - accuracy: 0.8595 - val_loss: 0.4969 - val_accuracy: 0.8270\n",
            "Epoch 51/100\n",
            "63/63 [==============================] - 5s 72ms/step - loss: 0.3147 - accuracy: 0.8650 - val_loss: 0.4845 - val_accuracy: 0.8230\n",
            "Epoch 52/100\n",
            "63/63 [==============================] - 5s 70ms/step - loss: 0.3246 - accuracy: 0.8615 - val_loss: 0.5885 - val_accuracy: 0.8110\n",
            "Epoch 53/100\n",
            "63/63 [==============================] - 5s 72ms/step - loss: 0.3101 - accuracy: 0.8725 - val_loss: 0.6730 - val_accuracy: 0.7810\n",
            "Epoch 54/100\n",
            "63/63 [==============================] - 5s 72ms/step - loss: 0.3171 - accuracy: 0.8645 - val_loss: 0.5593 - val_accuracy: 0.7960\n",
            "Epoch 55/100\n",
            "63/63 [==============================] - 5s 71ms/step - loss: 0.3038 - accuracy: 0.8725 - val_loss: 0.4907 - val_accuracy: 0.8220\n",
            "Epoch 56/100\n",
            "63/63 [==============================] - 5s 72ms/step - loss: 0.3049 - accuracy: 0.8745 - val_loss: 0.5740 - val_accuracy: 0.7980\n",
            "Epoch 57/100\n",
            "63/63 [==============================] - 5s 71ms/step - loss: 0.2823 - accuracy: 0.8865 - val_loss: 0.4703 - val_accuracy: 0.8370\n",
            "Epoch 58/100\n",
            "63/63 [==============================] - 5s 70ms/step - loss: 0.2972 - accuracy: 0.8715 - val_loss: 0.6758 - val_accuracy: 0.7960\n",
            "Epoch 59/100\n",
            "63/63 [==============================] - 5s 71ms/step - loss: 0.2919 - accuracy: 0.8805 - val_loss: 0.4843 - val_accuracy: 0.8470\n",
            "Epoch 60/100\n",
            "63/63 [==============================] - 5s 71ms/step - loss: 0.3113 - accuracy: 0.8735 - val_loss: 0.6767 - val_accuracy: 0.8010\n",
            "Epoch 61/100\n",
            "63/63 [==============================] - 5s 72ms/step - loss: 0.2747 - accuracy: 0.8820 - val_loss: 0.7220 - val_accuracy: 0.8060\n",
            "Epoch 62/100\n",
            "63/63 [==============================] - 5s 72ms/step - loss: 0.2793 - accuracy: 0.8855 - val_loss: 0.6365 - val_accuracy: 0.8000\n",
            "Epoch 63/100\n",
            "63/63 [==============================] - 5s 72ms/step - loss: 0.2681 - accuracy: 0.8935 - val_loss: 0.4812 - val_accuracy: 0.8350\n",
            "Epoch 64/100\n",
            "63/63 [==============================] - 6s 80ms/step - loss: 0.2934 - accuracy: 0.8820 - val_loss: 0.5694 - val_accuracy: 0.8310\n",
            "Epoch 65/100\n",
            "63/63 [==============================] - 5s 72ms/step - loss: 0.2899 - accuracy: 0.8805 - val_loss: 0.5474 - val_accuracy: 0.7900\n",
            "Epoch 66/100\n",
            "63/63 [==============================] - 5s 71ms/step - loss: 0.2676 - accuracy: 0.8860 - val_loss: 0.4957 - val_accuracy: 0.8130\n",
            "Epoch 67/100\n",
            "63/63 [==============================] - 5s 72ms/step - loss: 0.2565 - accuracy: 0.9020 - val_loss: 0.4754 - val_accuracy: 0.8170\n",
            "Epoch 68/100\n",
            "63/63 [==============================] - 5s 71ms/step - loss: 0.2528 - accuracy: 0.8880 - val_loss: 0.6793 - val_accuracy: 0.7950\n",
            "Epoch 69/100\n",
            "63/63 [==============================] - 5s 71ms/step - loss: 0.2433 - accuracy: 0.9015 - val_loss: 0.5926 - val_accuracy: 0.8000\n",
            "Epoch 70/100\n",
            "63/63 [==============================] - 5s 71ms/step - loss: 0.2750 - accuracy: 0.8915 - val_loss: 0.6460 - val_accuracy: 0.8100\n",
            "Epoch 71/100\n",
            "63/63 [==============================] - 5s 72ms/step - loss: 0.2793 - accuracy: 0.8840 - val_loss: 0.6294 - val_accuracy: 0.7950\n",
            "Epoch 72/100\n",
            "63/63 [==============================] - 5s 71ms/step - loss: 0.2674 - accuracy: 0.8825 - val_loss: 0.5466 - val_accuracy: 0.7970\n",
            "Epoch 73/100\n",
            "63/63 [==============================] - 5s 70ms/step - loss: 0.2499 - accuracy: 0.9030 - val_loss: 0.5673 - val_accuracy: 0.8220\n",
            "Epoch 74/100\n",
            "63/63 [==============================] - 5s 72ms/step - loss: 0.2731 - accuracy: 0.8930 - val_loss: 0.5864 - val_accuracy: 0.8130\n",
            "Epoch 75/100\n",
            "63/63 [==============================] - 5s 73ms/step - loss: 0.2517 - accuracy: 0.8955 - val_loss: 0.9392 - val_accuracy: 0.7490\n",
            "Epoch 76/100\n",
            "63/63 [==============================] - 5s 72ms/step - loss: 0.2727 - accuracy: 0.8880 - val_loss: 0.5501 - val_accuracy: 0.8350\n",
            "Epoch 77/100\n",
            "63/63 [==============================] - 5s 72ms/step - loss: 0.2428 - accuracy: 0.8985 - val_loss: 0.6093 - val_accuracy: 0.8340\n",
            "Epoch 78/100\n",
            "63/63 [==============================] - 5s 71ms/step - loss: 0.2463 - accuracy: 0.9065 - val_loss: 0.6899 - val_accuracy: 0.8120\n",
            "Epoch 79/100\n",
            "63/63 [==============================] - 5s 70ms/step - loss: 0.2475 - accuracy: 0.8995 - val_loss: 0.6739 - val_accuracy: 0.7770\n",
            "Epoch 80/100\n",
            "63/63 [==============================] - 5s 70ms/step - loss: 0.2468 - accuracy: 0.9010 - val_loss: 0.7724 - val_accuracy: 0.7720\n",
            "Epoch 81/100\n",
            "63/63 [==============================] - 5s 69ms/step - loss: 0.2341 - accuracy: 0.9045 - val_loss: 1.0328 - val_accuracy: 0.7550\n",
            "Epoch 82/100\n",
            "63/63 [==============================] - 5s 70ms/step - loss: 0.2407 - accuracy: 0.9060 - val_loss: 0.6081 - val_accuracy: 0.8260\n",
            "Epoch 83/100\n",
            "63/63 [==============================] - 5s 70ms/step - loss: 0.2337 - accuracy: 0.9165 - val_loss: 0.6175 - val_accuracy: 0.8200\n",
            "Epoch 84/100\n",
            "63/63 [==============================] - 5s 70ms/step - loss: 0.2500 - accuracy: 0.9010 - val_loss: 0.6830 - val_accuracy: 0.8090\n",
            "Epoch 85/100\n",
            "63/63 [==============================] - 5s 69ms/step - loss: 0.2196 - accuracy: 0.9140 - val_loss: 0.6156 - val_accuracy: 0.8390\n",
            "Epoch 86/100\n",
            "63/63 [==============================] - 5s 71ms/step - loss: 0.2600 - accuracy: 0.8995 - val_loss: 0.7069 - val_accuracy: 0.8110\n",
            "Epoch 87/100\n",
            "63/63 [==============================] - 5s 82ms/step - loss: 0.2188 - accuracy: 0.9190 - val_loss: 0.6950 - val_accuracy: 0.8040\n",
            "Epoch 88/100\n",
            "63/63 [==============================] - 5s 70ms/step - loss: 0.2394 - accuracy: 0.9070 - val_loss: 0.4917 - val_accuracy: 0.8400\n",
            "Epoch 89/100\n",
            "63/63 [==============================] - 5s 70ms/step - loss: 0.2170 - accuracy: 0.9140 - val_loss: 0.5088 - val_accuracy: 0.8500\n",
            "Epoch 90/100\n",
            "63/63 [==============================] - 5s 71ms/step - loss: 0.2254 - accuracy: 0.9175 - val_loss: 0.6017 - val_accuracy: 0.8520\n",
            "Epoch 91/100\n",
            "63/63 [==============================] - 5s 71ms/step - loss: 0.2237 - accuracy: 0.9170 - val_loss: 0.7459 - val_accuracy: 0.8120\n",
            "Epoch 92/100\n",
            "63/63 [==============================] - 5s 70ms/step - loss: 0.2307 - accuracy: 0.9185 - val_loss: 0.5365 - val_accuracy: 0.8390\n",
            "Epoch 93/100\n",
            "63/63 [==============================] - 5s 69ms/step - loss: 0.2068 - accuracy: 0.9150 - val_loss: 0.5501 - val_accuracy: 0.8290\n",
            "Epoch 94/100\n",
            "63/63 [==============================] - 5s 70ms/step - loss: 0.2281 - accuracy: 0.9170 - val_loss: 0.5914 - val_accuracy: 0.8480\n",
            "Epoch 95/100\n",
            "63/63 [==============================] - 5s 70ms/step - loss: 0.2269 - accuracy: 0.9125 - val_loss: 0.5979 - val_accuracy: 0.8330\n",
            "Epoch 96/100\n",
            "63/63 [==============================] - 5s 69ms/step - loss: 0.2196 - accuracy: 0.9105 - val_loss: 0.6388 - val_accuracy: 0.8340\n",
            "Epoch 97/100\n",
            "63/63 [==============================] - 5s 70ms/step - loss: 0.2411 - accuracy: 0.9165 - val_loss: 0.5939 - val_accuracy: 0.8270\n",
            "Epoch 98/100\n",
            "63/63 [==============================] - 5s 69ms/step - loss: 0.2289 - accuracy: 0.9090 - val_loss: 0.8294 - val_accuracy: 0.8100\n",
            "Epoch 99/100\n",
            "63/63 [==============================] - 5s 71ms/step - loss: 0.2528 - accuracy: 0.9070 - val_loss: 0.6749 - val_accuracy: 0.8300\n",
            "Epoch 100/100\n",
            "63/63 [==============================] - 5s 70ms/step - loss: 0.2317 - accuracy: 0.9165 - val_loss: 0.7875 - val_accuracy: 0.8010\n"
          ]
        }
      ]
    },
    {
      "cell_type": "code",
      "source": [
        "import matplotlib.pyplot as plt\n",
        "\n",
        "accuracy = history.history[\"accuracy\"]\n",
        "val_accuracy = history.history[\"val_accuracy\"]\n",
        "loss = history.history[\"loss\"]\n",
        "val_loss = history.history[\"val_loss\"]\n",
        "epochs = range(1, len(accuracy) + 1)\n",
        "plt.plot(epochs, accuracy, \"bo\", label=\"Training Accuracy\")\n",
        "plt.plot(epochs, val_accuracy, \"b\", label=\"Validation Accuracy\")\n",
        "plt.title = \"Training and Validation Accuracy\"\n",
        "plt.legend()\n",
        "plt.figure()\n",
        "plt.plot(epochs, loss, \"bo\", label=\"Training Loss\")\n",
        "plt.plot(epochs, val_loss, \"b\", label=\"Validation Loss\")\n",
        "plt.title = \"Training and Validation Loss\"\n",
        "plt.legend()\n",
        "plt.show()"
      ],
      "metadata": {
        "colab": {
          "base_uri": "https://localhost:8080/",
          "height": 513
        },
        "id": "0-UU4-LmuF-p",
        "outputId": "8823e359-b2c8-4df0-e41a-cc1823dba36a"
      },
      "execution_count": null,
      "outputs": [
        {
          "output_type": "display_data",
          "data": {
            "text/plain": [
              "<Figure size 432x288 with 1 Axes>"
            ],
            "image/png": "[encoded data removed]"
          },
          "metadata": {
            "needs_background": "light"
          }
        },
        {
          "output_type": "display_data",
          "data": {
            "text/plain": [
              "<Figure size 432x288 with 1 Axes>"
            ],
            "image/png": "[encoded data removed]"
          },
          "metadata": {
            "needs_background": "light"
          }
        }
      ]
    },
    {
      "cell_type": "markdown",
      "source": [
        "# Redoing it with VGG16"
      ],
      "metadata": {
        "id": "_z8tocGWk2Ty"
      }
    },
    {
      "cell_type": "code",
      "source": [
        "from tensorflow import keras\n",
        "\n",
        "conv_base = keras.applications.vgg16.VGG16(\n",
        "    weights=\"imagenet\",\n",
        "    include_top=False,\n",
        "    input_shape=(180, 180, 3)\n",
        ")\n",
        "print(conv_base.summary())"
      ],
      "metadata": {
        "colab": {
          "base_uri": "https://localhost:8080/"
        },
        "id": "I3dJHVDtnAl0",
        "outputId": "0b4377c8-17dd-47a5-876e-d62d1d23b8da"
      },
      "execution_count": null,
      "outputs": [
        {
          "output_type": "stream",
          "name": "stdout",
          "text": [
            "Downloading data from https://storage.googleapis.com/tensorflow/keras-applications/vgg16/vgg16_weights_tf_dim_ordering_tf_kernels_notop.h5\n",
            "58892288/58889256 [==============================] - 0s 0us/step\n",
            "58900480/58889256 [==============================] - 0s 0us/step\n",
            "Model: \"vgg16\"\n",
            "_________________________________________________________________\n",
            " Layer (type)                Output Shape              Param #   \n",
            "=================================================================\n",
            " input_1 (InputLayer)        [(None, 180, 180, 3)]     0         \n",
            "                                                                 \n",
            " block1_conv1 (Conv2D)       (None, 180, 180, 64)      1792      \n",
            "                                                                 \n",
            " block1_conv2 (Conv2D)       (None, 180, 180, 64)      36928     \n",
            "                                                                 \n",
            " block1_pool (MaxPooling2D)  (None, 90, 90, 64)        0         \n",
            "                                                                 \n",
            " block2_conv1 (Conv2D)       (None, 90, 90, 128)       73856     \n",
            "                                                                 \n",
            " block2_conv2 (Conv2D)       (None, 90, 90, 128)       147584    \n",
            "                                                                 \n",
            " block2_pool (MaxPooling2D)  (None, 45, 45, 128)       0         \n",
            "                                                                 \n",
            " block3_conv1 (Conv2D)       (None, 45, 45, 256)       295168    \n",
            "                                                                 \n",
            " block3_conv2 (Conv2D)       (None, 45, 45, 256)       590080    \n",
            "                                                                 \n",
            " block3_conv3 (Conv2D)       (None, 45, 45, 256)       590080    \n",
            "                                                                 \n",
            " block3_pool (MaxPooling2D)  (None, 22, 22, 256)       0         \n",
            "                                                                 \n",
            " block4_conv1 (Conv2D)       (None, 22, 22, 512)       1180160   \n",
            "                                                                 \n",
            " block4_conv2 (Conv2D)       (None, 22, 22, 512)       2359808   \n",
            "                                                                 \n",
            " block4_conv3 (Conv2D)       (None, 22, 22, 512)       2359808   \n",
            "                                                                 \n",
            " block4_pool (MaxPooling2D)  (None, 11, 11, 512)       0         \n",
            "                                                                 \n",
            " block5_conv1 (Conv2D)       (None, 11, 11, 512)       2359808   \n",
            "                                                                 \n",
            " block5_conv2 (Conv2D)       (None, 11, 11, 512)       2359808   \n",
            "                                                                 \n",
            " block5_conv3 (Conv2D)       (None, 11, 11, 512)       2359808   \n",
            "                                                                 \n",
            " block5_pool (MaxPooling2D)  (None, 5, 5, 512)         0         \n",
            "                                                                 \n",
            "=================================================================\n",
            "Total params: 14,714,688\n",
            "Trainable params: 14,714,688\n",
            "Non-trainable params: 0\n",
            "_________________________________________________________________\n",
            "None\n"
          ]
        }
      ]
    },
    {
      "cell_type": "code",
      "source": [
        "#recording the output of the convbase, storing it in a numpy array and then using on densely connected layers\n",
        "import numpy as np\n",
        "\n",
        "def get_features_and_labels(dataset):\n",
        "  all_features = []\n",
        "  all_labels = []\n",
        "  for images, labels in dataset:\n",
        "    preprocessed_images = keras.applications.vgg16.preprocess_input(images)\n",
        "    features = conv_base.predict(preprocessed_images)\n",
        "    all_features.append(features)\n",
        "    all_labels.append(labels)\n",
        "  return np.concatenate(all_features), np.concatenate(all_labels)\n",
        "\n",
        "train_features, train_labels = get_features_and_labels(train_dataset)\n",
        "val_features, val_labels = get_features_and_labels(validation_dataset)\n",
        "test_features, test_labels = get_features_and_labels(test_dataset)"
      ],
      "metadata": {
        "id": "hJBxskvntaRW"
      },
      "execution_count": null,
      "outputs": []
    },
    {
      "cell_type": "code",
      "source": [
        "#Here we define our densely connected model\n",
        "from tensorflow.keras import layers\n",
        "inputs = keras.Input(shape=(5, 5, 512))\n",
        "x = layers.Flatten()(inputs)\n",
        "x = layers.Dense(256)(x)\n",
        "x = layers.Dropout(0.5)(x)\n",
        "outputs = layers.Dense(1, activation=\"sigmoid\")(x)\n",
        "model = keras.Model(inputs=inputs, outputs=outputs)\n",
        "model.compile(optimizer=\"rmsprop\", loss=\"binary_crossentropy\", metrics=[\"accuracy\"])\n",
        "\n",
        "callbacks = keras.callbacks.ModelCheckpoint(filepath=\"feature_extraction.keras\", save_best_only = True, monitor=\"val_loss\")\n",
        "\n",
        "history = model.fit(train_features, train_labels, epochs=20, validation_data=(val_features, val_labels), callbacks=callbacks)"
      ],
      "metadata": {
        "colab": {
          "base_uri": "https://localhost:8080/"
        },
        "id": "wRA99scbwS77",
        "outputId": "bd72412e-3118-4b46-e599-1f69aedc990a"
      },
      "execution_count": null,
      "outputs": [
        {
          "output_type": "stream",
          "name": "stdout",
          "text": [
            "Epoch 1/20\n",
            "63/63 [==============================] - 3s 12ms/step - loss: 24.4735 - accuracy: 0.9275 - val_loss: 5.5523 - val_accuracy: 0.9660\n",
            "Epoch 2/20\n",
            "63/63 [==============================] - 0s 7ms/step - loss: 4.1837 - accuracy: 0.9720 - val_loss: 4.7159 - val_accuracy: 0.9710\n",
            "Epoch 3/20\n",
            "63/63 [==============================] - 0s 7ms/step - loss: 3.0072 - accuracy: 0.9810 - val_loss: 4.6749 - val_accuracy: 0.9800\n",
            "Epoch 4/20\n",
            "63/63 [==============================] - 0s 6ms/step - loss: 1.1605 - accuracy: 0.9880 - val_loss: 5.5405 - val_accuracy: 0.9700\n",
            "Epoch 5/20\n",
            "63/63 [==============================] - 0s 6ms/step - loss: 0.7406 - accuracy: 0.9935 - val_loss: 6.9746 - val_accuracy: 0.9730\n",
            "Epoch 6/20\n",
            "63/63 [==============================] - 0s 7ms/step - loss: 0.5091 - accuracy: 0.9980 - val_loss: 9.5457 - val_accuracy: 0.9640\n",
            "Epoch 7/20\n",
            "63/63 [==============================] - 0s 6ms/step - loss: 0.2506 - accuracy: 0.9965 - val_loss: 5.9625 - val_accuracy: 0.9690\n",
            "Epoch 8/20\n",
            "63/63 [==============================] - 0s 6ms/step - loss: 0.4118 - accuracy: 0.9955 - val_loss: 6.9785 - val_accuracy: 0.9700\n",
            "Epoch 9/20\n",
            "63/63 [==============================] - 0s 7ms/step - loss: 0.5351 - accuracy: 0.9945 - val_loss: 5.5494 - val_accuracy: 0.9720\n",
            "Epoch 10/20\n",
            "63/63 [==============================] - 0s 6ms/step - loss: 0.2523 - accuracy: 0.9980 - val_loss: 5.0287 - val_accuracy: 0.9750\n",
            "Epoch 11/20\n",
            "63/63 [==============================] - 0s 6ms/step - loss: 0.4401 - accuracy: 0.9965 - val_loss: 5.9406 - val_accuracy: 0.9700\n",
            "Epoch 12/20\n",
            "63/63 [==============================] - 0s 7ms/step - loss: 0.0615 - accuracy: 0.9995 - val_loss: 8.3643 - val_accuracy: 0.9720\n",
            "Epoch 13/20\n",
            "63/63 [==============================] - 0s 6ms/step - loss: 0.2999 - accuracy: 0.9980 - val_loss: 6.9743 - val_accuracy: 0.9710\n",
            "Epoch 14/20\n",
            "63/63 [==============================] - 0s 6ms/step - loss: 0.5054 - accuracy: 0.9975 - val_loss: 5.6881 - val_accuracy: 0.9760\n",
            "Epoch 15/20\n",
            "63/63 [==============================] - 0s 7ms/step - loss: 0.2120 - accuracy: 0.9975 - val_loss: 6.8885 - val_accuracy: 0.9730\n",
            "Epoch 16/20\n",
            "63/63 [==============================] - 0s 6ms/step - loss: 0.1876 - accuracy: 0.9975 - val_loss: 7.2463 - val_accuracy: 0.9720\n",
            "Epoch 17/20\n",
            "63/63 [==============================] - 0s 6ms/step - loss: 0.1567 - accuracy: 0.9990 - val_loss: 6.0593 - val_accuracy: 0.9760\n",
            "Epoch 18/20\n",
            "63/63 [==============================] - 0s 6ms/step - loss: 0.4623 - accuracy: 0.9970 - val_loss: 7.4035 - val_accuracy: 0.9760\n",
            "Epoch 19/20\n",
            "63/63 [==============================] - 0s 7ms/step - loss: 1.3733e-08 - accuracy: 1.0000 - val_loss: 7.2124 - val_accuracy: 0.9750\n",
            "Epoch 20/20\n",
            "63/63 [==============================] - 0s 6ms/step - loss: 0.2651 - accuracy: 0.9965 - val_loss: 9.5412 - val_accuracy: 0.9630\n"
          ]
        }
      ]
    },
    {
      "cell_type": "code",
      "source": [
        "#Now we plot out what we got\n",
        "import matplotlib.pyplot as plt\n",
        "\n",
        "accuracy = history.history[\"accuracy\"]\n",
        "val_acc = history.history[\"val_accuracy\"]\n",
        "loss = history.history[\"loss\"]\n",
        "val_loss = history.history[\"val_loss\"]\n",
        "epochs = range(1, len(accuracy)+1)\n",
        "\n",
        "plt.plot(epochs, accuracy, \"bo\", label=\"Training Accuracy\")\n",
        "plt.plot(epochs, val_acc, \"b\", label=\"Validation Accuracy\")\n",
        "plt.title=\"Training and Validation Accuracy\"\n",
        "plt.legend()\n",
        "plt.figure()\n",
        "\n",
        "plt.plot(epochs, loss, \"bo\", label=\"Training Loss\")\n",
        "plt.plot(epochs, val_loss, \"b\", label=\"Validation Loss\")\n",
        "plt.title=\"Training and Validation Loss\"\n",
        "plt.legend()\n",
        "plt.show()"
      ],
      "metadata": {
        "colab": {
          "base_uri": "https://localhost:8080/",
          "height": 513
        },
        "id": "qFx_6iHQySi8",
        "outputId": "4417ddc4-8fa6-4a28-e714-565d56b8a95f"
      },
      "execution_count": null,
      "outputs": [
        {
          "output_type": "display_data",
          "data": {
            "text/plain": [
              "<Figure size 432x288 with 1 Axes>"
            ],
            "image/png": "[encoded data removed]"
          },
          "metadata": {
            "needs_background": "light"
          }
        },
        {
          "output_type": "display_data",
          "data": {
            "text/plain": [
              "<Figure size 432x288 with 1 Axes>"
            ],
            "image/png": "[encoded data removed]"
          },
          "metadata": {
            "needs_background": "light"
          }
        }
      ]
    },
    {
      "cell_type": "code",
      "source": [
        "#Training through feature extraction and data augmentation\n",
        "from tensorflow import keras\n",
        "from tensorflow.keras import layers\n",
        "\n",
        "conv_base = keras.applications.vgg16.VGG16(\n",
        "    weights=\"imagenet\",\n",
        "    include_top=False\n",
        ")\n",
        "conv_base.trainable = False\n",
        "\n",
        "data_augmentation = keras.Sequential([\n",
        "                                      layers.RandomFlip(\"horizontal\"),\n",
        "                                      layers.RandomRotation(0.1),\n",
        "                                      layers.RandomZoom(0.2)\n",
        "])\n",
        "inputs = keras.Input(shape=(180, 180, 3))\n",
        "x = data_augmentation(inputs)\n",
        "x = keras.applications.vgg16.preprocess_input(x)\n",
        "x = conv_base(x)\n",
        "x = layers.Flatten()(x)\n",
        "x = layers.Dense(256)(x)\n",
        "x = layers.Dropout(0.5)(x)\n",
        "outputs = layers.Dense(1, activation=\"sigmoid\")(x)\n",
        "model = keras.Model(inputs=inputs, outputs=outputs)\n",
        "model.compile(optimizer=\"rmsprop\", loss=\"binary_crossentropy\", metrics=[\"accuracy\"])\n",
        "\n",
        "callbacks = keras.callbacks.ModelCheckpoint(\n",
        "    filepath=\"feature_extraction_with_data_augmentation.keras\",\n",
        "    save_best_only=True,\n",
        "    monitor=\"val_loss\"\n",
        ")\n",
        "\n",
        "history = model.fit(train_dataset, epochs=50, validation_data=validation_dataset, callbacks=callbacks)"
      ],
      "metadata": {
        "id": "mxU_KJz4huxU",
        "colab": {
          "base_uri": "https://localhost:8080/"
        },
        "outputId": "dfd29a7d-9b98-4dd8-98cb-050eafe46e2e"
      },
      "execution_count": 8,
      "outputs": [
        {
          "output_type": "stream",
          "name": "stdout",
          "text": [
            "Downloading data from https://storage.googleapis.com/tensorflow/keras-applications/vgg16/vgg16_weights_tf_dim_ordering_tf_kernels_notop.h5\n",
            "58892288/58889256 [==============================] - 0s 0us/step\n",
            "58900480/58889256 [==============================] - 0s 0us/step\n",
            "Epoch 1/50\n",
            "63/63 [==============================] - 26s 200ms/step - loss: 18.9406 - accuracy: 0.8975 - val_loss: 3.6419 - val_accuracy: 0.9690\n",
            "Epoch 2/50\n",
            "63/63 [==============================] - 11s 165ms/step - loss: 7.4184 - accuracy: 0.9450 - val_loss: 6.0050 - val_accuracy: 0.9640\n",
            "Epoch 3/50\n",
            "63/63 [==============================] - 11s 166ms/step - loss: 5.6326 - accuracy: 0.9535 - val_loss: 4.0408 - val_accuracy: 0.9700\n",
            "Epoch 4/50\n",
            "63/63 [==============================] - 11s 167ms/step - loss: 5.0205 - accuracy: 0.9640 - val_loss: 10.7049 - val_accuracy: 0.9460\n",
            "Epoch 5/50\n",
            "63/63 [==============================] - 11s 170ms/step - loss: 6.5814 - accuracy: 0.9605 - val_loss: 2.9378 - val_accuracy: 0.9790\n",
            "Epoch 6/50\n",
            "63/63 [==============================] - 11s 168ms/step - loss: 2.8793 - accuracy: 0.9715 - val_loss: 3.8125 - val_accuracy: 0.9790\n",
            "Epoch 7/50\n",
            "63/63 [==============================] - 11s 171ms/step - loss: 4.7990 - accuracy: 0.9630 - val_loss: 2.8195 - val_accuracy: 0.9800\n",
            "Epoch 8/50\n",
            "63/63 [==============================] - 11s 171ms/step - loss: 2.9771 - accuracy: 0.9750 - val_loss: 2.3806 - val_accuracy: 0.9820\n",
            "Epoch 9/50\n",
            "63/63 [==============================] - 11s 168ms/step - loss: 3.3485 - accuracy: 0.9720 - val_loss: 2.6115 - val_accuracy: 0.9820\n",
            "Epoch 10/50\n",
            "63/63 [==============================] - 11s 170ms/step - loss: 2.1180 - accuracy: 0.9785 - val_loss: 3.4081 - val_accuracy: 0.9750\n",
            "Epoch 11/50\n",
            "63/63 [==============================] - 11s 170ms/step - loss: 2.1471 - accuracy: 0.9770 - val_loss: 2.6731 - val_accuracy: 0.9790\n",
            "Epoch 12/50\n",
            "63/63 [==============================] - 11s 169ms/step - loss: 2.3671 - accuracy: 0.9735 - val_loss: 2.7400 - val_accuracy: 0.9770\n",
            "Epoch 13/50\n",
            "63/63 [==============================] - 11s 173ms/step - loss: 1.9891 - accuracy: 0.9790 - val_loss: 2.2791 - val_accuracy: 0.9810\n",
            "Epoch 14/50\n",
            "63/63 [==============================] - 11s 173ms/step - loss: 2.2639 - accuracy: 0.9770 - val_loss: 2.1051 - val_accuracy: 0.9800\n",
            "Epoch 15/50\n",
            "63/63 [==============================] - 11s 170ms/step - loss: 1.7723 - accuracy: 0.9785 - val_loss: 2.4178 - val_accuracy: 0.9820\n",
            "Epoch 16/50\n",
            "63/63 [==============================] - 11s 175ms/step - loss: 2.0534 - accuracy: 0.9805 - val_loss: 1.9334 - val_accuracy: 0.9810\n",
            "Epoch 17/50\n",
            "63/63 [==============================] - 11s 174ms/step - loss: 1.2714 - accuracy: 0.9825 - val_loss: 1.3714 - val_accuracy: 0.9850\n",
            "Epoch 18/50\n",
            "63/63 [==============================] - 11s 170ms/step - loss: 1.1629 - accuracy: 0.9860 - val_loss: 1.8540 - val_accuracy: 0.9790\n",
            "Epoch 19/50\n",
            "63/63 [==============================] - 11s 170ms/step - loss: 1.3024 - accuracy: 0.9835 - val_loss: 2.1479 - val_accuracy: 0.9810\n",
            "Epoch 20/50\n",
            "63/63 [==============================] - 11s 170ms/step - loss: 0.8304 - accuracy: 0.9860 - val_loss: 2.1351 - val_accuracy: 0.9810\n",
            "Epoch 21/50\n",
            "63/63 [==============================] - 11s 169ms/step - loss: 1.6143 - accuracy: 0.9750 - val_loss: 2.2603 - val_accuracy: 0.9810\n",
            "Epoch 22/50\n",
            "63/63 [==============================] - 11s 170ms/step - loss: 1.2257 - accuracy: 0.9850 - val_loss: 2.0005 - val_accuracy: 0.9810\n",
            "Epoch 23/50\n",
            "63/63 [==============================] - 11s 172ms/step - loss: 1.5495 - accuracy: 0.9815 - val_loss: 1.7020 - val_accuracy: 0.9800\n",
            "Epoch 24/50\n",
            "63/63 [==============================] - 11s 172ms/step - loss: 1.0668 - accuracy: 0.9845 - val_loss: 2.6014 - val_accuracy: 0.9800\n",
            "Epoch 25/50\n",
            "63/63 [==============================] - 11s 172ms/step - loss: 1.4646 - accuracy: 0.9830 - val_loss: 2.3125 - val_accuracy: 0.9750\n",
            "Epoch 26/50\n",
            "63/63 [==============================] - 11s 172ms/step - loss: 0.9212 - accuracy: 0.9845 - val_loss: 1.9800 - val_accuracy: 0.9770\n",
            "Epoch 27/50\n",
            "63/63 [==============================] - 11s 172ms/step - loss: 0.9061 - accuracy: 0.9885 - val_loss: 2.2299 - val_accuracy: 0.9800\n",
            "Epoch 28/50\n",
            "63/63 [==============================] - 11s 171ms/step - loss: 1.0639 - accuracy: 0.9855 - val_loss: 1.9725 - val_accuracy: 0.9820\n",
            "Epoch 29/50\n",
            "63/63 [==============================] - 11s 172ms/step - loss: 0.6432 - accuracy: 0.9905 - val_loss: 1.6003 - val_accuracy: 0.9850\n",
            "Epoch 30/50\n",
            "63/63 [==============================] - 11s 173ms/step - loss: 0.8435 - accuracy: 0.9865 - val_loss: 1.9029 - val_accuracy: 0.9780\n",
            "Epoch 31/50\n",
            "63/63 [==============================] - 11s 173ms/step - loss: 0.9303 - accuracy: 0.9855 - val_loss: 1.6659 - val_accuracy: 0.9820\n",
            "Epoch 32/50\n",
            "63/63 [==============================] - 11s 173ms/step - loss: 0.9327 - accuracy: 0.9850 - val_loss: 2.8692 - val_accuracy: 0.9760\n",
            "Epoch 33/50\n",
            "63/63 [==============================] - 11s 175ms/step - loss: 1.1048 - accuracy: 0.9840 - val_loss: 1.3424 - val_accuracy: 0.9830\n",
            "Epoch 34/50\n",
            "63/63 [==============================] - 11s 172ms/step - loss: 0.7610 - accuracy: 0.9845 - val_loss: 1.5361 - val_accuracy: 0.9800\n",
            "Epoch 35/50\n",
            "63/63 [==============================] - 11s 173ms/step - loss: 0.5559 - accuracy: 0.9890 - val_loss: 1.7149 - val_accuracy: 0.9780\n",
            "Epoch 36/50\n",
            "63/63 [==============================] - 11s 173ms/step - loss: 0.6923 - accuracy: 0.9875 - val_loss: 2.4218 - val_accuracy: 0.9760\n",
            "Epoch 37/50\n",
            "63/63 [==============================] - 11s 171ms/step - loss: 0.6278 - accuracy: 0.9875 - val_loss: 1.5301 - val_accuracy: 0.9780\n",
            "Epoch 38/50\n",
            "63/63 [==============================] - 11s 173ms/step - loss: 0.5644 - accuracy: 0.9890 - val_loss: 1.7760 - val_accuracy: 0.9800\n",
            "Epoch 39/50\n",
            "63/63 [==============================] - 11s 175ms/step - loss: 0.6145 - accuracy: 0.9895 - val_loss: 1.2645 - val_accuracy: 0.9840\n",
            "Epoch 40/50\n",
            "63/63 [==============================] - 11s 175ms/step - loss: 0.3769 - accuracy: 0.9935 - val_loss: 1.2100 - val_accuracy: 0.9830\n",
            "Epoch 41/50\n",
            "63/63 [==============================] - 11s 171ms/step - loss: 0.5925 - accuracy: 0.9900 - val_loss: 1.5765 - val_accuracy: 0.9840\n",
            "Epoch 42/50\n",
            "63/63 [==============================] - 11s 176ms/step - loss: 0.7333 - accuracy: 0.9870 - val_loss: 0.9991 - val_accuracy: 0.9820\n",
            "Epoch 43/50\n",
            "63/63 [==============================] - 11s 175ms/step - loss: 0.4307 - accuracy: 0.9885 - val_loss: 1.2618 - val_accuracy: 0.9800\n",
            "Epoch 44/50\n",
            "63/63 [==============================] - 11s 178ms/step - loss: 0.4259 - accuracy: 0.9900 - val_loss: 1.2651 - val_accuracy: 0.9820\n",
            "Epoch 45/50\n",
            "63/63 [==============================] - 11s 178ms/step - loss: 0.6362 - accuracy: 0.9900 - val_loss: 1.0567 - val_accuracy: 0.9860\n",
            "Epoch 46/50\n",
            "63/63 [==============================] - 11s 178ms/step - loss: 0.1892 - accuracy: 0.9925 - val_loss: 1.5576 - val_accuracy: 0.9810\n",
            "Epoch 47/50\n",
            "63/63 [==============================] - 11s 175ms/step - loss: 0.5387 - accuracy: 0.9890 - val_loss: 1.3724 - val_accuracy: 0.9810\n",
            "Epoch 48/50\n",
            "63/63 [==============================] - 11s 177ms/step - loss: 0.5214 - accuracy: 0.9865 - val_loss: 1.8227 - val_accuracy: 0.9830\n",
            "Epoch 49/50\n",
            "63/63 [==============================] - 11s 178ms/step - loss: 0.4860 - accuracy: 0.9875 - val_loss: 1.2465 - val_accuracy: 0.9820\n",
            "Epoch 50/50\n",
            "63/63 [==============================] - 12s 180ms/step - loss: 0.4960 - accuracy: 0.9905 - val_loss: 1.6054 - val_accuracy: 0.9820\n"
          ]
        }
      ]
    },
    {
      "cell_type": "code",
      "source": [
        "import matplotlib.pyplot as plt\n",
        "\n",
        "acc = history.history[\"accuracy\"]\n",
        "val_acc = history.history[\"val_accuracy\"]\n",
        "loss = history.history[\"loss\"]\n",
        "val_loss = history.history[\"val_loss\"]\n",
        "epochs = range(1, len(acc)+1)\n",
        "\n",
        "plt.plot(epochs, acc, \"bo\", label=\"Training Accuracy\")\n",
        "plt.plot(epochs, val_acc, \"b\", label=\"Validation Accuracy\")\n",
        "plt.title=\"Training and Validation Accuracy\"\n",
        "plt.legend()\n",
        "plt.figure()\n",
        "plt.plot(epochs, loss, \"bo\", label=\"Training Loss\")\n",
        "plt.plot(epochs, val_loss, \"b\", label=\"Validation Loss\")\n",
        "plt.legend()\n",
        "plt.show()"
      ],
      "metadata": {
        "colab": {
          "base_uri": "https://localhost:8080/",
          "height": 513
        },
        "id": "2tm9GJ5mznEe",
        "outputId": "2abea51b-c367-4638-9804-44e5ae991227"
      },
      "execution_count": 11,
      "outputs": [
        {
          "output_type": "display_data",
          "data": {
            "text/plain": [
              "<Figure size 432x288 with 1 Axes>"
            ],
            "image/png": "[encoded data removed]"
          },
          "metadata": {
            "needs_background": "light"
          }
        },
        {
          "output_type": "display_data",
          "data": {
            "text/plain": [
              "<Figure size 432x288 with 1 Axes>"
            ],
            "image/png": "[encoded data removed]"
          },
          "metadata": {
            "needs_background": "light"
          }
        }
      ]
    },
    {
      "cell_type": "code",
      "source": [
        "#Testing\n",
        "test_model = keras.models.load_model(\"feature_extraction_with_data_augmentation.keras\")\n",
        "test_loss, test_acc = test_model.evaluate(test_dataset)\n",
        "print(f\"Test accuracy: {test_acc: .3f}\")"
      ],
      "metadata": {
        "colab": {
          "base_uri": "https://localhost:8080/"
        },
        "id": "C887YKeE0iNI",
        "outputId": "0e54f032-163a-4d4a-87f4-b21fd4fd5e46"
      },
      "execution_count": 13,
      "outputs": [
        {
          "output_type": "stream",
          "name": "stdout",
          "text": [
            "63/63 [==============================] - 8s 115ms/step - loss: 2.2736 - accuracy: 0.9770\n",
            "Test accuracy:  0.977\n"
          ]
        }
      ]
    }
  ],
  "metadata": {
    "colab": {
      "name": "FrancoisChap8.ipynb",
      "provenance": [],
      "authorship_tag": "ABX9TyP4qUkbxQ4GKTvQ3/Q64rXR",
      "include_colab_link": true
    },
    "kernelspec": {
      "display_name": "Python 3",
      "name": "python3"
    },
    "language_info": {
      "name": "python"
    },
    "accelerator": "GPU",
    "gpuClass": "standard"
  },
  "nbformat": 4,
  "nbformat_minor": 0
}