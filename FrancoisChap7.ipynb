{
  "nbformat": 4,
  "nbformat_minor": 0,
  "metadata": {
    "colab": {
      "name": "FrancoisChap7.ipynb",
      "provenance": [],
      "authorship_tag": "ABX9TyNdee0nAj2+I1nynQoSb/eg",
      "include_colab_link": true
    },
    "kernelspec": {
      "name": "python3",
      "display_name": "Python 3"
    },
    "language_info": {
      "name": "python"
    }
  },
  "cells": [
    {
      "cell_type": "markdown",
      "metadata": {
        "id": "view-in-github",
        "colab_type": "text"
      },
      "source": [
        "<a href=\"https://colab.research.google.com/github/theunixdisaster/deep-learning-with-python-book/blob/main/FrancoisChap7.ipynb\" target=\"_parent\"><img src=\"https://colab.research.google.com/assets/colab-badge.svg\" alt=\"Open In Colab\"/></a>"
      ]
    },
    {
      "cell_type": "markdown",
      "source": [
        "# The Functional API for creating models"
      ],
      "metadata": {
        "id": "LT_GY_8Daf2X"
      }
    },
    {
      "cell_type": "code",
      "source": [
        "#This is a simple functional model example\n",
        "\n",
        "from tensorflow import keras\n",
        "from tensoflow.keras import layers\n",
        "\n",
        "inputs = keras.Input(shape=(3,),name=\"my_input\")\n",
        "features = layers.Dense(64, activation=\"relu\")(inputs)\n",
        "outputs = layers.Dense(10, activation=\"softmax\")(features)\n",
        "\n",
        "model = keras.Model(inputs=inputs, outputs=outputs)"
      ],
      "metadata": {
        "id": "BHSDKYiZUZ1Y"
      },
      "execution_count": null,
      "outputs": []
    }
  ]
}