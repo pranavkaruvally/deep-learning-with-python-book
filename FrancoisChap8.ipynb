{
  "cells": [
    {
      "cell_type": "markdown",
      "metadata": {
        "id": "view-in-github",
        "colab_type": "text"
      },
      "source": [
        "<a href=\"https://colab.research.google.com/github/theunixdisaster/deep-learning-with-python-book/blob/main/FrancoisChap8.ipynb\" target=\"_parent\"><img src=\"https://colab.research.google.com/assets/colab-badge.svg\" alt=\"Open In Colab\"/></a>"
      ]
    },
    {
      "cell_type": "markdown",
      "metadata": {
        "id": "kZLKw8XejJHB"
      },
      "source": [
        "# CNN"
      ]
    },
    {
      "cell_type": "code",
      "execution_count": null,
      "metadata": {
        "colab": {
          "base_uri": "https://localhost:8080/"
        },
        "id": "1U7u4jQjjP8c",
        "outputId": "f71779d8-da07-49e6-dddc-09a8463a4046"
      },
      "outputs": [
        {
          "output_type": "stream",
          "name": "stdout",
          "text": [
            "Model: \"model\"\n",
            "_________________________________________________________________\n",
            " Layer (type)                Output Shape              Param #   \n",
            "=================================================================\n",
            " input_1 (InputLayer)        [(None, 28, 28, 1)]       0         \n",
            "                                                                 \n",
            " conv2d (Conv2D)             (None, 26, 26, 64)        640       \n",
            "                                                                 \n",
            " max_pooling2d (MaxPooling2D  (None, 13, 13, 64)       0         \n",
            " )                                                               \n",
            "                                                                 \n",
            " conv2d_1 (Conv2D)           (None, 11, 11, 128)       73856     \n",
            "                                                                 \n",
            " max_pooling2d_1 (MaxPooling  (None, 5, 5, 128)        0         \n",
            " 2D)                                                             \n",
            "                                                                 \n",
            " conv2d_2 (Conv2D)           (None, 3, 3, 256)         295168    \n",
            "                                                                 \n",
            " flatten (Flatten)           (None, 2304)              0         \n",
            "                                                                 \n",
            " dense (Dense)               (None, 10)                23050     \n",
            "                                                                 \n",
            "=================================================================\n",
            "Total params: 392,714\n",
            "Trainable params: 392,714\n",
            "Non-trainable params: 0\n",
            "_________________________________________________________________\n"
          ]
        }
      ],
      "source": [
        "from tensorflow import keras\n",
        "from tensorflow.keras import layers\n",
        "\n",
        "inputs = keras.Input(shape=(28, 28, 1))\n",
        "x = layers.Conv2D(filters=32, kernel_size=3, activation=\"relu\")(inputs)\n",
        "x = layers.MaxPooling2D(pool_size=2)(x)\n",
        "x = layers.Conv2D(filters=64, kernel_size=3, activation=\"relu\")(x)\n",
        "x = layers.MaxPooling2D(pool_size=2)(x)\n",
        "x = layers.Conv2D(filters=128, kernel_size=3, activation=\"relu\")(x)\n",
        "x = layers.Flatten()(x)\n",
        "outputs = layers.Dense(10, activation=\"softmax\")(x)\n",
        "model = keras.Model(inputs=inputs, outputs=outputs)\n",
        "\n",
        "model.summary()"
      ]
    },
    {
      "cell_type": "code",
      "source": [
        "from tensorflow.keras.datasets import mnist\n",
        "\n",
        "(train_images, train_labels), (test_images, test_labels) = mnist.load_data()\n",
        "train_images = train_images.reshape((60000, 28, 28, 1)).astype(\"float32\") / 255\n",
        "test_images = test_images.reshape((10000, 28, 28, 1)).astype(\"float32\") / 255\n",
        "\n",
        "model.compile(\n",
        "    optimizer=\"rmsprop\",\n",
        "    loss=\"sparse_categorical_crossentropy\",\n",
        "    metrics=[\"accuracy\"]\n",
        ")\n",
        "history = model.fit(train_images, train_labels, epochs=5, batch_size=64)"
      ],
      "metadata": {
        "colab": {
          "base_uri": "https://localhost:8080/"
        },
        "id": "1NwXgeyolNbn",
        "outputId": "af109d05-d3c0-4055-a862-6e40f000f1ee"
      },
      "execution_count": null,
      "outputs": [
        {
          "output_type": "stream",
          "name": "stdout",
          "text": [
            "Downloading data from https://storage.googleapis.com/tensorflow/tf-keras-datasets/mnist.npz\n",
            "11493376/11490434 [==============================] - 0s 0us/step\n",
            "11501568/11490434 [==============================] - 0s 0us/step\n",
            "Epoch 1/5\n",
            "938/938 [==============================] - 17s 5ms/step - loss: 0.1220 - accuracy: 0.9615\n",
            "Epoch 2/5\n",
            "938/938 [==============================] - 5s 5ms/step - loss: 0.0370 - accuracy: 0.9891\n",
            "Epoch 3/5\n",
            "938/938 [==============================] - 5s 5ms/step - loss: 0.0248 - accuracy: 0.9924\n",
            "Epoch 4/5\n",
            "938/938 [==============================] - 5s 5ms/step - loss: 0.0183 - accuracy: 0.9945\n",
            "Epoch 5/5\n",
            "938/938 [==============================] - 5s 5ms/step - loss: 0.0133 - accuracy: 0.9958\n"
          ]
        }
      ]
    },
    {
      "cell_type": "markdown",
      "source": [
        "An incorrectly structured convnet missing its max-pooling layers"
      ],
      "metadata": {
        "id": "bl7O8UM51FeF"
      }
    },
    {
      "cell_type": "code",
      "source": [
        "from tensorflow.keras import layers\n",
        "from tensorflow import keras\n",
        "\n",
        "inputs = keras.Input(shape=(28, 28, 1))\n",
        "x = layers.Conv2D(filters=32, kernel_size=3, activation=\"relu\")(inputs)\n",
        "x = layers.Conv2D(filters=64, kernel_size=3, activation=\"relu\")(x)\n",
        "x = layers.Conv2D(filters=128, kernel_size=3, activation=\"relu\")(x)\n",
        "x = layers.Flatten()(x)\n",
        "outputs = layers.Dense(10, activation=\"softmax\")(x)\n",
        "model_no_max_pool = keras.Model(inputs=inputs, outputs=outputs)\n",
        "\n",
        "print(model_no_max_pool.summary())"
      ],
      "metadata": {
        "colab": {
          "base_uri": "https://localhost:8080/"
        },
        "id": "7vVOheM11a-e",
        "outputId": "27bc7455-f475-43dc-a294-84c84c09818f"
      },
      "execution_count": null,
      "outputs": [
        {
          "output_type": "stream",
          "name": "stdout",
          "text": [
            "Model: \"model\"\n",
            "_________________________________________________________________\n",
            " Layer (type)                Output Shape              Param #   \n",
            "=================================================================\n",
            " input_2 (InputLayer)        [(None, 28, 28, 1)]       0         \n",
            "                                                                 \n",
            " conv2d_1 (Conv2D)           (None, 26, 26, 32)        320       \n",
            "                                                                 \n",
            " conv2d_2 (Conv2D)           (None, 24, 24, 64)        18496     \n",
            "                                                                 \n",
            " conv2d_3 (Conv2D)           (None, 22, 22, 128)       73856     \n",
            "                                                                 \n",
            " flatten (Flatten)           (None, 61952)             0         \n",
            "                                                                 \n",
            " dense (Dense)               (None, 10)                619530    \n",
            "                                                                 \n",
            "=================================================================\n",
            "Total params: 712,202\n",
            "Trainable params: 712,202\n",
            "Non-trainable params: 0\n",
            "_________________________________________________________________\n",
            "None\n"
          ]
        }
      ]
    },
    {
      "cell_type": "markdown",
      "source": [
        "# Cats vs Dogs"
      ],
      "metadata": {
        "id": "_er-46lRXl1p"
      }
    },
    {
      "cell_type": "code",
      "source": [
        "!mkdir -p ~/.kaggle && mv kaggle.json ~/.kaggle/kaggle.json && chmod 600 ~/.kaggle/kaggle.json"
      ],
      "metadata": {
        "id": "-APcQnG6-Ckr"
      },
      "execution_count": 1,
      "outputs": []
    },
    {
      "cell_type": "code",
      "source": [
        "!kaggle competitions download -c dogs-vs-cats"
      ],
      "metadata": {
        "id": "DmME79WvZoEI",
        "colab": {
          "base_uri": "https://localhost:8080/"
        },
        "outputId": "59b29995-286a-478b-efe5-ab6fa0afba25"
      },
      "execution_count": 2,
      "outputs": [
        {
          "output_type": "stream",
          "name": "stdout",
          "text": [
            "Downloading dogs-vs-cats.zip to /content\n",
            " 98% 793M/812M [00:23<00:00, 36.7MB/s]\n",
            "100% 812M/812M [00:23<00:00, 35.7MB/s]\n"
          ]
        }
      ]
    },
    {
      "cell_type": "code",
      "source": [
        "!unzip dogs-vs-cats.zip"
      ],
      "metadata": {
        "colab": {
          "base_uri": "https://localhost:8080/"
        },
        "id": "cXGK9SemaTdg",
        "outputId": "cfc497b1-b2c6-42f2-ce1e-563381d52b93"
      },
      "execution_count": 3,
      "outputs": [
        {
          "output_type": "stream",
          "name": "stdout",
          "text": [
            "Archive:  dogs-vs-cats.zip\n",
            "  inflating: sampleSubmission.csv    \n",
            "  inflating: test1.zip               \n",
            "  inflating: train.zip               \n"
          ]
        }
      ]
    },
    {
      "cell_type": "code",
      "source": [
        "!unzip -qq train.zip"
      ],
      "metadata": {
        "id": "lBDGKDKEalp1"
      },
      "execution_count": 4,
      "outputs": []
    },
    {
      "cell_type": "code",
      "source": [
        "import os, shutil, pathlib\n",
        "\n",
        "original_dir = pathlib.Path(\"train\")\n",
        "new_base_dir = pathlib.Path(\"cats_vs_dogs_small\")\n",
        "\n",
        "def make_subset(subset_name, start_index, end_index):\n",
        "  for category in (\"cat\", \"dog\"):\n",
        "    dir = new_base_dir / subset_name / category\n",
        "    os.makedirs(dir)\n",
        "    fnames = [f\"{category}.{i}.jpg\" for i in range(start_index, end_index)]\n",
        "    for fname in fnames:\n",
        "      shutil.copyfile(src=original_dir / fname, dst=dir/fname)\n",
        "\n",
        "make_subset(\"train\", start_index=0, end_index=1000)\n",
        "make_subset(\"validation\", start_index=1000, end_index=1500)\n",
        "make_subset(\"test\", start_index=1500, end_index=2500)"
      ],
      "metadata": {
        "id": "e1Q3PKOU10XH"
      },
      "execution_count": 5,
      "outputs": []
    },
    {
      "cell_type": "code",
      "source": [
        "from tensorflow import keras\n",
        "from tensorflow.keras import layers\n",
        "\n",
        "inputs = keras.Input(shape=(180, 180, 3))\n",
        "\n",
        "x = layers.Rescaling(1./255)(inputs)\n",
        "\n",
        "x = layers.Conv2D(filters=32, kernel_size=3, activation=\"relu\")(x)\n",
        "x = layers.MaxPooling2D(pool_size=2)(x)\n",
        "x = layers.Conv2D(filters=64, kernel_size=3, activation=\"relu\")(x)\n",
        "x = layers.MaxPooling2D(pool_size=2)(x)\n",
        "x = layers.Conv2D(filters=128, kernel_size=3, activation=\"relu\")(x)\n",
        "x = layers.MaxPooling2D(pool_size=2)(x)\n",
        "x = layers.Conv2D(filters=256, kernel_size=3, activation=\"relu\")(x)\n",
        "x = layers.Flatten()(x)\n",
        "outputs = layers.Dense(1, activation=\"sigmoid\")(x)\n",
        "\n",
        "model = keras.Model(inputs=inputs, outputs=outputs)\n",
        "model.compile(\n",
        "    optimizer=\"rmsprop\",\n",
        "    loss=\"binary_crossentropy\",\n",
        "    metrics=[\"accuracy\"]\n",
        ")"
      ],
      "metadata": {
        "id": "EBVBIkLOCGDO"
      },
      "execution_count": 7,
      "outputs": []
    },
    {
      "cell_type": "code",
      "source": [
        "#image_dataset_from_directory to read images\n",
        "\n",
        "from tensorflow.keras.utils import image_dataset_from_directory\n",
        "\n",
        "train_dataset = image_dataset_from_directory(\n",
        "    new_base_dir / \"train\",\n",
        "    image_size = (180, 180),\n",
        "    batch_size = 32\n",
        ")\n",
        "validation_dataset = image_dataset_from_directory(\n",
        "    new_base_dir / \"validation\",\n",
        "    image_size = (180, 180),\n",
        "    batch_size = 32\n",
        ")\n",
        "test_dataset = image_dataset_from_directory(\n",
        "    new_base_dir / \"test\",\n",
        "    image_size = (180, 180),\n",
        "    batch_size = 32\n",
        ")"
      ],
      "metadata": {
        "colab": {
          "base_uri": "https://localhost:8080/"
        },
        "id": "NafZKs_AQHzT",
        "outputId": "4410c9ad-ace6-43d6-b050-74e1305d1c3d"
      },
      "execution_count": 8,
      "outputs": [
        {
          "output_type": "stream",
          "name": "stdout",
          "text": [
            "Found 2000 files belonging to 2 classes.\n",
            "Found 1000 files belonging to 2 classes.\n",
            "Found 2000 files belonging to 2 classes.\n"
          ]
        }
      ]
    },
    {
      "cell_type": "code",
      "source": [
        "callbacks = [\n",
        "            keras.callbacks.ModelCheckpoint(\n",
        "                filepath=\"convnet_from_scratch.keras\",\n",
        "                save_best_only=True,\n",
        "                monitor=\"val_loss\")\n",
        "]\n",
        "history = model.fit(\n",
        "    train_dataset,\n",
        "    epochs=30,\n",
        "    validation_data=validation_dataset,\n",
        "    callbacks=callbacks\n",
        ")"
      ],
      "metadata": {
        "id": "OlnjpM4oUABT",
        "colab": {
          "base_uri": "https://localhost:8080/"
        },
        "outputId": "a796d436-9c44-4003-edbd-c2b4bff13f3f"
      },
      "execution_count": 12,
      "outputs": [
        {
          "output_type": "stream",
          "name": "stdout",
          "text": [
            "Epoch 1/30\n",
            "63/63 [==============================] - 5s 70ms/step - loss: 0.0182 - accuracy: 0.9950 - val_loss: 4.0800 - val_accuracy: 0.6470\n",
            "Epoch 2/30\n",
            "63/63 [==============================] - 5s 69ms/step - loss: 0.0508 - accuracy: 0.9895 - val_loss: 3.4585 - val_accuracy: 0.6610\n",
            "Epoch 3/30\n",
            "63/63 [==============================] - 5s 69ms/step - loss: 0.0241 - accuracy: 0.9905 - val_loss: 3.8274 - val_accuracy: 0.6720\n",
            "Epoch 4/30\n",
            "63/63 [==============================] - 5s 69ms/step - loss: 0.0378 - accuracy: 0.9915 - val_loss: 3.8129 - val_accuracy: 0.6630\n",
            "Epoch 5/30\n",
            "63/63 [==============================] - 5s 69ms/step - loss: 0.0189 - accuracy: 0.9940 - val_loss: 4.6990 - val_accuracy: 0.6580\n",
            "Epoch 6/30\n",
            "63/63 [==============================] - 5s 69ms/step - loss: 0.0746 - accuracy: 0.9855 - val_loss: 3.9231 - val_accuracy: 0.6690\n",
            "Epoch 7/30\n",
            "63/63 [==============================] - 5s 71ms/step - loss: 0.0483 - accuracy: 0.9855 - val_loss: 4.1766 - val_accuracy: 0.6630\n",
            "Epoch 8/30\n",
            "63/63 [==============================] - 5s 70ms/step - loss: 0.0417 - accuracy: 0.9905 - val_loss: 4.2186 - val_accuracy: 0.6790\n",
            "Epoch 9/30\n",
            "63/63 [==============================] - 5s 70ms/step - loss: 0.0278 - accuracy: 0.9945 - val_loss: 4.4834 - val_accuracy: 0.6870\n",
            "Epoch 10/30\n",
            "63/63 [==============================] - 5s 70ms/step - loss: 0.0564 - accuracy: 0.9890 - val_loss: 4.7003 - val_accuracy: 0.6770\n",
            "Epoch 11/30\n",
            "63/63 [==============================] - 5s 70ms/step - loss: 0.0467 - accuracy: 0.9925 - val_loss: 4.5265 - val_accuracy: 0.6810\n",
            "Epoch 12/30\n",
            "63/63 [==============================] - 5s 70ms/step - loss: 0.0295 - accuracy: 0.9915 - val_loss: 4.7672 - val_accuracy: 0.6740\n",
            "Epoch 13/30\n",
            "63/63 [==============================] - 5s 70ms/step - loss: 0.0401 - accuracy: 0.9935 - val_loss: 4.8221 - val_accuracy: 0.6840\n",
            "Epoch 14/30\n",
            "63/63 [==============================] - 5s 70ms/step - loss: 0.0184 - accuracy: 0.9935 - val_loss: 5.3686 - val_accuracy: 0.6750\n",
            "Epoch 15/30\n",
            "63/63 [==============================] - 5s 71ms/step - loss: 0.0436 - accuracy: 0.9880 - val_loss: 5.2823 - val_accuracy: 0.6660\n",
            "Epoch 16/30\n",
            "63/63 [==============================] - 5s 70ms/step - loss: 0.0343 - accuracy: 0.9955 - val_loss: 5.4702 - val_accuracy: 0.6610\n",
            "Epoch 17/30\n",
            "63/63 [==============================] - 5s 71ms/step - loss: 0.0654 - accuracy: 0.9875 - val_loss: 5.9551 - val_accuracy: 0.6450\n",
            "Epoch 18/30\n",
            "63/63 [==============================] - 5s 70ms/step - loss: 0.0375 - accuracy: 0.9940 - val_loss: 5.4376 - val_accuracy: 0.6510\n",
            "Epoch 19/30\n",
            "63/63 [==============================] - 5s 71ms/step - loss: 0.0036 - accuracy: 0.9990 - val_loss: 5.4880 - val_accuracy: 0.6560\n",
            "Epoch 20/30\n",
            "63/63 [==============================] - 5s 71ms/step - loss: 0.0820 - accuracy: 0.9870 - val_loss: 6.1121 - val_accuracy: 0.6510\n",
            "Epoch 21/30\n",
            "63/63 [==============================] - 5s 70ms/step - loss: 0.0277 - accuracy: 0.9955 - val_loss: 6.1433 - val_accuracy: 0.6590\n",
            "Epoch 22/30\n",
            "63/63 [==============================] - 5s 70ms/step - loss: 0.0496 - accuracy: 0.9895 - val_loss: 6.2013 - val_accuracy: 0.6510\n",
            "Epoch 23/30\n",
            "63/63 [==============================] - 6s 85ms/step - loss: 0.0026 - accuracy: 0.9990 - val_loss: 5.6034 - val_accuracy: 0.6850\n",
            "Epoch 24/30\n",
            "63/63 [==============================] - 5s 70ms/step - loss: 0.0520 - accuracy: 0.9875 - val_loss: 5.8713 - val_accuracy: 0.6630\n",
            "Epoch 25/30\n",
            "63/63 [==============================] - 5s 71ms/step - loss: 0.0440 - accuracy: 0.9890 - val_loss: 5.9333 - val_accuracy: 0.6730\n",
            "Epoch 26/30\n",
            "63/63 [==============================] - 5s 71ms/step - loss: 0.0406 - accuracy: 0.9925 - val_loss: 5.8280 - val_accuracy: 0.6720\n",
            "Epoch 27/30\n",
            "63/63 [==============================] - 5s 70ms/step - loss: 0.0218 - accuracy: 0.9955 - val_loss: 6.1762 - val_accuracy: 0.6710\n",
            "Epoch 28/30\n",
            "63/63 [==============================] - 5s 70ms/step - loss: 0.0219 - accuracy: 0.9945 - val_loss: 6.3650 - val_accuracy: 0.6830\n",
            "Epoch 29/30\n",
            "63/63 [==============================] - 5s 70ms/step - loss: 0.0317 - accuracy: 0.9935 - val_loss: 6.4387 - val_accuracy: 0.6820\n",
            "Epoch 30/30\n",
            "63/63 [==============================] - 5s 70ms/step - loss: 0.0650 - accuracy: 0.9915 - val_loss: 7.0761 - val_accuracy: 0.6680\n"
          ]
        }
      ]
    },
    {
      "cell_type": "code",
      "source": [
        "import matplotlib.pyplot as plt\n",
        "\n",
        "accuracy = history.history[\"accuracy\"]\n",
        "val_accuracy = history.history[\"val_accuracy\"]\n",
        "loss = history.history[\"loss\"]\n",
        "val_loss = history.history[\"val_loss\"]\n",
        "\n",
        "plt.plot(epochs, accuracy, \"bo\", label=\"Training accuracy\")\n",
        "plt.plot(epochs, val_accuracy, \"b\", label=\"Validation accuracy\")\n",
        "plt.title(\"Training and Validation accuracy\")\n",
        "plt.legend()\n",
        "plt.figure()\n",
        "plt.plot(epochs, loss, \"bo\", label=\"Training loss\")\n",
        "plt.plot(epochs, val_loss, \"b\", label=\"Validation loss\")\n",
        "plt.title(\"Training and Validation accuracy\")\n",
        "plt.legend()\n",
        "plt.show()"
      ],
      "metadata": {
        "colab": {
          "base_uri": "https://localhost:8080/",
          "height": 545
        },
        "id": "mqa_dBmCbKRB",
        "outputId": "28335920-f479-4071-a78d-ac964b388e40"
      },
      "execution_count": 17,
      "outputs": [
        {
          "output_type": "display_data",
          "data": {
            "text/plain": [
              "<Figure size 432x288 with 1 Axes>"
            ],
            "image/png": "[encoded data removed]"
          },
          "metadata": {
            "needs_background": "light"
          }
        },
        {
          "output_type": "display_data",
          "data": {
            "text/plain": [
              "<Figure size 432x288 with 1 Axes>"
            ],
            "image/png": "[encoded data removed]"
          },
          "metadata": {
            "needs_background": "light"
          }
        }
      ]
    }
  ],
  "metadata": {
    "colab": {
      "name": "FrancoisChap8.ipynb",
      "provenance": [],
      "authorship_tag": "ABX9TyNgDGfhaw1V+d2ir5kZgVKk",
      "include_colab_link": true
    },
    "kernelspec": {
      "display_name": "Python 3",
      "name": "python3"
    },
    "language_info": {
      "name": "python"
    },
    "accelerator": "GPU",
    "gpuClass": "standard"
  },
  "nbformat": 4,
  "nbformat_minor": 0
}