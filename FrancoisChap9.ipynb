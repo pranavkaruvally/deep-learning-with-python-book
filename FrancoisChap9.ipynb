{
  "nbformat": 4,
  "nbformat_minor": 0,
  "metadata": {
    "colab": {
      "name": "FrancoisChap9.ipynb",
      "provenance": [],
      "authorship_tag": "ABX9TyN1GfY69oNfYjPzDcl2BoUu",
      "include_colab_link": true
    },
    "kernelspec": {
      "name": "python3",
      "display_name": "Python 3"
    },
    "language_info": {
      "name": "python"
    },
    "accelerator": "GPU",
    "gpuClass": "standard"
  },
  "cells": [
    {
      "cell_type": "markdown",
      "metadata": {
        "id": "view-in-github",
        "colab_type": "text"
      },
      "source": [
        "<a href=\"https://colab.research.google.com/github/theunixdisaster/deep-learning-with-python-book/blob/main/FrancoisChap9.ipynb\" target=\"_parent\"><img src=\"https://colab.research.google.com/assets/colab-badge.svg\" alt=\"Open In Colab\"/></a>"
      ]
    },
    {
      "cell_type": "code",
      "execution_count": 1,
      "metadata": {
        "colab": {
          "base_uri": "https://localhost:8080/"
        },
        "id": "jXQ7yGv4o5e2",
        "outputId": "0fca0cab-f66f-40de-da36-d31f92e3e74f"
      },
      "outputs": [
        {
          "output_type": "stream",
          "name": "stdout",
          "text": [
            "Francois Chapter 9\n"
          ]
        }
      ],
      "source": [
        "print(\"Francois Chapter 9\")"
      ]
    }
  ]
}